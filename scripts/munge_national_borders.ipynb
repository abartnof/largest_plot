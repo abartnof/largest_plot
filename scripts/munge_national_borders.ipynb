{
 "cells": [
  {
   "cell_type": "markdown",
   "id": "7a5f2ce9-99d8-4f48-be6d-a955f528d2d6",
   "metadata": {},
   "source": [
    "# Munge national shapefile"
   ]
  },
  {
   "cell_type": "code",
   "execution_count": 21,
   "id": "87f6e1a7-6af4-4d43-8dfa-421cf60d19e2",
   "metadata": {},
   "outputs": [],
   "source": [
    "import pandas as pd\n",
    "import geopandas as gpd\n",
    "# from haversine import haversine, Unit\n",
    "import numpy as np\n",
    "# import matplotlib.pyplot as plt\n",
    "from shapely.geometry import Point\n",
    "from itertools import compress\n",
    "from skimage.measure import grid_points_in_poly, points_in_poly\n",
    "# from ray import train, tune"
   ]
  },
  {
   "cell_type": "code",
   "execution_count": 6,
   "id": "31eef099-1765-4a6a-a3c4-8065569db563",
   "metadata": {},
   "outputs": [],
   "source": [
    "dir = '/Volumes/Extreme SSD/largest_plots/raw_data/united_states_outline/cb_2021_us_nation_5m'\n",
    "gdf = gpd.read_file(dir)"
   ]
  },
  {
   "cell_type": "code",
   "execution_count": 7,
   "id": "83f56dda-535b-42b1-af00-ad01bfb4aee0",
   "metadata": {},
   "outputs": [
    {
     "data": {
      "text/plain": [
       "<Geographic 2D CRS: EPSG:4269>\n",
       "Name: NAD83\n",
       "Axis Info [ellipsoidal]:\n",
       "- Lat[north]: Geodetic latitude (degree)\n",
       "- Lon[east]: Geodetic longitude (degree)\n",
       "Area of Use:\n",
       "- name: North America - onshore and offshore: Canada - Alberta; British Columbia; Manitoba; New Brunswick; Newfoundland and Labrador; Northwest Territories; Nova Scotia; Nunavut; Ontario; Prince Edward Island; Quebec; Saskatchewan; Yukon. Puerto Rico. United States (USA) - Alabama; Alaska; Arizona; Arkansas; California; Colorado; Connecticut; Delaware; Florida; Georgia; Hawaii; Idaho; Illinois; Indiana; Iowa; Kansas; Kentucky; Louisiana; Maine; Maryland; Massachusetts; Michigan; Minnesota; Mississippi; Missouri; Montana; Nebraska; Nevada; New Hampshire; New Jersey; New Mexico; New York; North Carolina; North Dakota; Ohio; Oklahoma; Oregon; Pennsylvania; Rhode Island; South Carolina; South Dakota; Tennessee; Texas; Utah; Vermont; Virginia; Washington; West Virginia; Wisconsin; Wyoming. US Virgin Islands. British Virgin Islands.\n",
       "- bounds: (167.65, 14.92, -40.73, 86.45)\n",
       "Datum: North American Datum 1983\n",
       "- Ellipsoid: GRS 1980\n",
       "- Prime Meridian: Greenwich"
      ]
     },
     "execution_count": 7,
     "metadata": {},
     "output_type": "execute_result"
    }
   ],
   "source": [
    "gdf.crs"
   ]
  },
  {
   "cell_type": "code",
   "execution_count": 9,
   "id": "7466c820-1686-499a-9e24-086e8c4b3f04",
   "metadata": {},
   "outputs": [],
   "source": [
    "yy = np.arange(start=24, stop=50, step=8.993999191439993e-06)\n",
    "xx = np.arange(start=-125, stop=-66, step=2)\n",
    "# xx = np.arange(start=-125, stop=-66, step=9.291531215312152e-06)"
   ]
  },
  {
   "cell_type": "markdown",
   "id": "64479d4c-f7f2-4ecc-a4d8-fb318ec1c961",
   "metadata": {},
   "source": [
    "Scikit"
   ]
  },
  {
   "cell_type": "code",
   "execution_count": 35,
   "id": "1f5cb111-5c63-458c-83c1-1ea8f643123a",
   "metadata": {},
   "outputs": [
    {
     "ename": "ValueError",
     "evalue": "Point() takes only scalar or 1-size vector arguments, got (0    -125\n1    -123\n2    -121\n3    -119\n4    -117\n5    -115\n6    -113\n7    -111\n8    -109\n9    -107\n10   -105\n11   -103\n12   -101\n13    -99\n14    -97\n15    -95\n16    -93\n17    -91\n18    -89\n19    -87\n20    -85\n21    -83\n22    -81\n23    -79\n24    -77\n25    -75\n26    -73\n27    -71\n28    -69\n29    -67\nName: x, dtype: int64, 0     34.044727\n1     34.044727\n2     34.044727\n3     34.044727\n4     34.044727\n5     34.044727\n6     34.044727\n7     34.044727\n8     34.044727\n9     34.044727\n10    34.044727\n11    34.044727\n12    34.044727\n13    34.044727\n14    34.044727\n15    34.044727\n16    34.044727\n17    34.044727\n18    34.044727\n19    34.044727\n20    34.044727\n21    34.044727\n22    34.044727\n23    34.044727\n24    34.044727\n25    34.044727\n26    34.044727\n27    34.044727\n28    34.044727\n29    34.044727\nName: y, dtype: float64)",
     "output_type": "error",
     "traceback": [
      "\u001b[0;31m---------------------------------------------------------------------------\u001b[0m",
      "\u001b[0;31mValueError\u001b[0m                                Traceback (most recent call last)",
      "Cell \u001b[0;32mIn[35], line 8\u001b[0m\n\u001b[1;32m      3\u001b[0m y_dummy \u001b[38;5;241m=\u001b[39m np\u001b[38;5;241m.\u001b[39mrepeat(y, \u001b[38;5;28mlen\u001b[39m(xx))\n\u001b[1;32m      4\u001b[0m Dummy \u001b[38;5;241m=\u001b[39m pd\u001b[38;5;241m.\u001b[39mDataFrame({\n\u001b[1;32m      5\u001b[0m     \u001b[38;5;124m'\u001b[39m\u001b[38;5;124my\u001b[39m\u001b[38;5;124m'\u001b[39m:y,\n\u001b[1;32m      6\u001b[0m     \u001b[38;5;124m'\u001b[39m\u001b[38;5;124mx\u001b[39m\u001b[38;5;124m'\u001b[39m:xx\n\u001b[1;32m      7\u001b[0m })\n\u001b[0;32m----> 8\u001b[0m Point(Dummy\u001b[38;5;241m.\u001b[39mx, Dummy\u001b[38;5;241m.\u001b[39my)\n",
      "File \u001b[0;32m/opt/miniconda3/lib/python3.12/site-packages/shapely/geometry/point.py:73\u001b[0m, in \u001b[0;36mPoint.__new__\u001b[0;34m(self, *args)\u001b[0m\n\u001b[1;32m     70\u001b[0m     coords \u001b[38;5;241m=\u001b[39m np\u001b[38;5;241m.\u001b[39marray(args)\u001b[38;5;241m.\u001b[39msqueeze()\n\u001b[1;32m     72\u001b[0m \u001b[38;5;28;01mif\u001b[39;00m coords\u001b[38;5;241m.\u001b[39mndim \u001b[38;5;241m>\u001b[39m \u001b[38;5;241m1\u001b[39m:\n\u001b[0;32m---> 73\u001b[0m     \u001b[38;5;28;01mraise\u001b[39;00m \u001b[38;5;167;01mValueError\u001b[39;00m(\n\u001b[1;32m     74\u001b[0m         \u001b[38;5;124mf\u001b[39m\u001b[38;5;124m\"\u001b[39m\u001b[38;5;124mPoint() takes only scalar or 1-size vector arguments, got \u001b[39m\u001b[38;5;132;01m{\u001b[39;00margs\u001b[38;5;132;01m}\u001b[39;00m\u001b[38;5;124m\"\u001b[39m\n\u001b[1;32m     75\u001b[0m     )\n\u001b[1;32m     76\u001b[0m \u001b[38;5;28;01mif\u001b[39;00m \u001b[38;5;129;01mnot\u001b[39;00m np\u001b[38;5;241m.\u001b[39missubdtype(coords\u001b[38;5;241m.\u001b[39mdtype, np\u001b[38;5;241m.\u001b[39mnumber):\n\u001b[1;32m     77\u001b[0m     coords \u001b[38;5;241m=\u001b[39m [\u001b[38;5;28mfloat\u001b[39m(c) \u001b[38;5;28;01mfor\u001b[39;00m c \u001b[38;5;129;01min\u001b[39;00m coords]\n",
      "\u001b[0;31mValueError\u001b[0m: Point() takes only scalar or 1-size vector arguments, got (0    -125\n1    -123\n2    -121\n3    -119\n4    -117\n5    -115\n6    -113\n7    -111\n8    -109\n9    -107\n10   -105\n11   -103\n12   -101\n13    -99\n14    -97\n15    -95\n16    -93\n17    -91\n18    -89\n19    -87\n20    -85\n21    -83\n22    -81\n23    -79\n24    -77\n25    -75\n26    -73\n27    -71\n28    -69\n29    -67\nName: x, dtype: int64, 0     34.044727\n1     34.044727\n2     34.044727\n3     34.044727\n4     34.044727\n5     34.044727\n6     34.044727\n7     34.044727\n8     34.044727\n9     34.044727\n10    34.044727\n11    34.044727\n12    34.044727\n13    34.044727\n14    34.044727\n15    34.044727\n16    34.044727\n17    34.044727\n18    34.044727\n19    34.044727\n20    34.044727\n21    34.044727\n22    34.044727\n23    34.044727\n24    34.044727\n25    34.044727\n26    34.044727\n27    34.044727\n28    34.044727\n29    34.044727\nName: y, dtype: float64)"
     ]
    }
   ],
   "source": [
    "y = 34.044727\n",
    "\n",
    "y_dummy = np.repeat(y, len(xx))\n",
    "Dummy = pd.DataFrame({\n",
    "    'y':y,\n",
    "    'x':xx\n",
    "})\n",
    "# grid_points"
   ]
  },
  {
   "cell_type": "code",
   "execution_count": null,
   "id": "f7654069-1a6a-40c7-a063-bf73c757667e",
   "metadata": {},
   "outputs": [],
   "source": []
  },
  {
   "cell_type": "code",
   "execution_count": 28,
   "id": "676e6ca2-19b0-4f2d-b34b-202e6377828d",
   "metadata": {},
   "outputs": [],
   "source": [
    "y = 34.044727\n",
    "# y = 0\n",
    "point_series = gpd.GeoSeries([Point(x, y) for x in xx])\n",
    "point_series.crs = 'epsg:4269'\n",
    "Points = gpd.GeoDataFrame(geometry=point_series)"
   ]
  },
  {
   "cell_type": "code",
   "execution_count": 29,
   "id": "df6e183d-595f-4d74-a7ad-32cab89d51e2",
   "metadata": {},
   "outputs": [],
   "source": [
    "# mask means 'does the national boundary contain this point'\n",
    "Join = gdf.sjoin(Points, how=\"right\", predicate='contains')\n",
    "# does_national_boundary_contain_these_points = ~Join.index_left.isna()"
   ]
  },
  {
   "cell_type": "code",
   "execution_count": 106,
   "id": "de44298b-4b72-478e-b190-0287d83861e2",
   "metadata": {},
   "outputs": [
    {
     "data": {
      "text/html": [
       "<div>\n",
       "<style scoped>\n",
       "    .dataframe tbody tr th:only-of-type {\n",
       "        vertical-align: middle;\n",
       "    }\n",
       "\n",
       "    .dataframe tbody tr th {\n",
       "        vertical-align: top;\n",
       "    }\n",
       "\n",
       "    .dataframe thead th {\n",
       "        text-align: right;\n",
       "    }\n",
       "</style>\n",
       "<table border=\"1\" class=\"dataframe\">\n",
       "  <thead>\n",
       "    <tr style=\"text-align: right;\">\n",
       "      <th></th>\n",
       "      <th>x</th>\n",
       "      <th>y</th>\n",
       "    </tr>\n",
       "  </thead>\n",
       "  <tbody>\n",
       "  </tbody>\n",
       "</table>\n",
       "</div>"
      ],
      "text/plain": [
       "Empty DataFrame\n",
       "Columns: [x, y]\n",
       "Index: []"
      ]
     },
     "execution_count": 106,
     "metadata": {},
     "output_type": "execute_result"
    }
   ],
   "source": [
    "Results = pd.DataFrame()\n",
    "Results['x'] = list(compress(xx, does_national_boundary_contain_these_points))\n",
    "Results['y'] = y\n",
    "Results"
   ]
  },
  {
   "cell_type": "code",
   "execution_count": 91,
   "id": "b6bc168f-a297-43c1-9919-5786281daacd",
   "metadata": {},
   "outputs": [
    {
     "data": {
      "text/plain": [
       "[-117,\n",
       " -115,\n",
       " -113,\n",
       " -111,\n",
       " -109,\n",
       " -107,\n",
       " -105,\n",
       " -103,\n",
       " -101,\n",
       " -99,\n",
       " -97,\n",
       " -95,\n",
       " -93,\n",
       " -91,\n",
       " -89,\n",
       " -87,\n",
       " -85,\n",
       " -83,\n",
       " -81,\n",
       " -79]"
      ]
     },
     "execution_count": 91,
     "metadata": {},
     "output_type": "execute_result"
    }
   ],
   "source": [
    "list(compress(xx, does_national_boundary_contain_these_points))"
   ]
  },
  {
   "cell_type": "code",
   "execution_count": 50,
   "id": "096444e2-b1c6-4f37-b966-d85488533939",
   "metadata": {},
   "outputs": [
    {
     "data": {
      "text/plain": [
       "0     POINT (-125.00000 34.04473)\n",
       "1     POINT (-123.00000 34.04473)\n",
       "2     POINT (-121.00000 34.04473)\n",
       "3     POINT (-119.00000 34.04473)\n",
       "4     POINT (-117.00000 34.04473)\n",
       "5     POINT (-115.00000 34.04473)\n",
       "6     POINT (-113.00000 34.04473)\n",
       "7     POINT (-111.00000 34.04473)\n",
       "8     POINT (-109.00000 34.04473)\n",
       "9     POINT (-107.00000 34.04473)\n",
       "10    POINT (-105.00000 34.04473)\n",
       "11    POINT (-103.00000 34.04473)\n",
       "12    POINT (-101.00000 34.04473)\n",
       "13     POINT (-99.00000 34.04473)\n",
       "14     POINT (-97.00000 34.04473)\n",
       "15     POINT (-95.00000 34.04473)\n",
       "16     POINT (-93.00000 34.04473)\n",
       "17     POINT (-91.00000 34.04473)\n",
       "18     POINT (-89.00000 34.04473)\n",
       "19     POINT (-87.00000 34.04473)\n",
       "20     POINT (-85.00000 34.04473)\n",
       "21     POINT (-83.00000 34.04473)\n",
       "22     POINT (-81.00000 34.04473)\n",
       "23     POINT (-79.00000 34.04473)\n",
       "24     POINT (-77.00000 34.04473)\n",
       "25     POINT (-75.00000 34.04473)\n",
       "26     POINT (-73.00000 34.04473)\n",
       "27     POINT (-71.00000 34.04473)\n",
       "28     POINT (-69.00000 34.04473)\n",
       "29     POINT (-67.00000 34.04473)\n",
       "dtype: geometry"
      ]
     },
     "execution_count": 50,
     "metadata": {},
     "output_type": "execute_result"
    }
   ],
   "source": [
    "Points"
   ]
  },
  {
   "cell_type": "code",
   "execution_count": 49,
   "id": "f2734108-8f7f-4f91-b232-faeeef8ab014",
   "metadata": {},
   "outputs": [
    {
     "ename": "ValueError",
     "evalue": "'right_df' should be GeoDataFrame, got <class 'geopandas.geoseries.GeoSeries'>",
     "output_type": "error",
     "traceback": [
      "\u001b[0;31m---------------------------------------------------------------------------\u001b[0m",
      "\u001b[0;31mValueError\u001b[0m                                Traceback (most recent call last)",
      "Cell \u001b[0;32mIn[49], line 1\u001b[0m\n\u001b[0;32m----> 1\u001b[0m gdf\u001b[38;5;241m.\u001b[39msjoin(Points)\n",
      "File \u001b[0;32m/opt/miniconda3/lib/python3.12/site-packages/geopandas/geodataframe.py:2195\u001b[0m, in \u001b[0;36mGeoDataFrame.sjoin\u001b[0;34m(self, df, *args, **kwargs)\u001b[0m\n\u001b[1;32m   2121\u001b[0m \u001b[38;5;28;01mdef\u001b[39;00m \u001b[38;5;21msjoin\u001b[39m(\u001b[38;5;28mself\u001b[39m, df, \u001b[38;5;241m*\u001b[39margs, \u001b[38;5;241m*\u001b[39m\u001b[38;5;241m*\u001b[39mkwargs):\n\u001b[1;32m   2122\u001b[0m \u001b[38;5;250m    \u001b[39m\u001b[38;5;124;03m\"\"\"Spatial join of two GeoDataFrames.\u001b[39;00m\n\u001b[1;32m   2123\u001b[0m \n\u001b[1;32m   2124\u001b[0m \u001b[38;5;124;03m    See the User Guide page :doc:`../../user_guide/mergingdata` for details.\u001b[39;00m\n\u001b[0;32m   (...)\u001b[0m\n\u001b[1;32m   2193\u001b[0m \u001b[38;5;124;03m    sjoin : equivalent top-level function\u001b[39;00m\n\u001b[1;32m   2194\u001b[0m \u001b[38;5;124;03m    \"\"\"\u001b[39;00m\n\u001b[0;32m-> 2195\u001b[0m     \u001b[38;5;28;01mreturn\u001b[39;00m geopandas\u001b[38;5;241m.\u001b[39msjoin(left_df\u001b[38;5;241m=\u001b[39m\u001b[38;5;28mself\u001b[39m, right_df\u001b[38;5;241m=\u001b[39mdf, \u001b[38;5;241m*\u001b[39margs, \u001b[38;5;241m*\u001b[39m\u001b[38;5;241m*\u001b[39mkwargs)\n",
      "File \u001b[0;32m/opt/miniconda3/lib/python3.12/site-packages/geopandas/tools/sjoin.py:119\u001b[0m, in \u001b[0;36msjoin\u001b[0;34m(left_df, right_df, how, predicate, lsuffix, rsuffix, **kwargs)\u001b[0m\n\u001b[1;32m    116\u001b[0m     first \u001b[38;5;241m=\u001b[39m \u001b[38;5;28mnext\u001b[39m(\u001b[38;5;28miter\u001b[39m(kwargs\u001b[38;5;241m.\u001b[39mkeys()))\n\u001b[1;32m    117\u001b[0m     \u001b[38;5;28;01mraise\u001b[39;00m \u001b[38;5;167;01mTypeError\u001b[39;00m(\u001b[38;5;124mf\u001b[39m\u001b[38;5;124m\"\u001b[39m\u001b[38;5;124msjoin() got an unexpected keyword argument \u001b[39m\u001b[38;5;124m'\u001b[39m\u001b[38;5;132;01m{\u001b[39;00mfirst\u001b[38;5;132;01m}\u001b[39;00m\u001b[38;5;124m'\u001b[39m\u001b[38;5;124m\"\u001b[39m)\n\u001b[0;32m--> 119\u001b[0m _basic_checks(left_df, right_df, how, lsuffix, rsuffix)\n\u001b[1;32m    121\u001b[0m indices \u001b[38;5;241m=\u001b[39m _geom_predicate_query(left_df, right_df, predicate)\n\u001b[1;32m    123\u001b[0m joined \u001b[38;5;241m=\u001b[39m _frame_join(indices, left_df, right_df, how, lsuffix, rsuffix)\n",
      "File \u001b[0;32m/opt/miniconda3/lib/python3.12/site-packages/geopandas/tools/sjoin.py:152\u001b[0m, in \u001b[0;36m_basic_checks\u001b[0;34m(left_df, right_df, how, lsuffix, rsuffix)\u001b[0m\n\u001b[1;32m    147\u001b[0m     \u001b[38;5;28;01mraise\u001b[39;00m \u001b[38;5;167;01mValueError\u001b[39;00m(\n\u001b[1;32m    148\u001b[0m         \u001b[38;5;124m\"\u001b[39m\u001b[38;5;124m'\u001b[39m\u001b[38;5;124mleft_df\u001b[39m\u001b[38;5;124m'\u001b[39m\u001b[38;5;124m should be GeoDataFrame, got \u001b[39m\u001b[38;5;132;01m{}\u001b[39;00m\u001b[38;5;124m\"\u001b[39m\u001b[38;5;241m.\u001b[39mformat(\u001b[38;5;28mtype\u001b[39m(left_df))\n\u001b[1;32m    149\u001b[0m     )\n\u001b[1;32m    151\u001b[0m \u001b[38;5;28;01mif\u001b[39;00m \u001b[38;5;129;01mnot\u001b[39;00m \u001b[38;5;28misinstance\u001b[39m(right_df, GeoDataFrame):\n\u001b[0;32m--> 152\u001b[0m     \u001b[38;5;28;01mraise\u001b[39;00m \u001b[38;5;167;01mValueError\u001b[39;00m(\n\u001b[1;32m    153\u001b[0m         \u001b[38;5;124m\"\u001b[39m\u001b[38;5;124m'\u001b[39m\u001b[38;5;124mright_df\u001b[39m\u001b[38;5;124m'\u001b[39m\u001b[38;5;124m should be GeoDataFrame, got \u001b[39m\u001b[38;5;132;01m{}\u001b[39;00m\u001b[38;5;124m\"\u001b[39m\u001b[38;5;241m.\u001b[39mformat(\u001b[38;5;28mtype\u001b[39m(right_df))\n\u001b[1;32m    154\u001b[0m     )\n\u001b[1;32m    156\u001b[0m allowed_hows \u001b[38;5;241m=\u001b[39m [\u001b[38;5;124m\"\u001b[39m\u001b[38;5;124mleft\u001b[39m\u001b[38;5;124m\"\u001b[39m, \u001b[38;5;124m\"\u001b[39m\u001b[38;5;124mright\u001b[39m\u001b[38;5;124m\"\u001b[39m, \u001b[38;5;124m\"\u001b[39m\u001b[38;5;124minner\u001b[39m\u001b[38;5;124m\"\u001b[39m]\n\u001b[1;32m    157\u001b[0m \u001b[38;5;28;01mif\u001b[39;00m how \u001b[38;5;129;01mnot\u001b[39;00m \u001b[38;5;129;01min\u001b[39;00m allowed_hows:\n",
      "\u001b[0;31mValueError\u001b[0m: 'right_df' should be GeoDataFrame, got <class 'geopandas.geoseries.GeoSeries'>"
     ]
    }
   ],
   "source": [
    "gdf.sjoin(Points)"
   ]
  },
  {
   "cell_type": "code",
   "execution_count": 10,
   "id": "36a5badd-336b-4d15-8777-5e6d43ee5728",
   "metadata": {},
   "outputs": [
    {
     "data": {
      "text/plain": [
       "0    False\n",
       "dtype: bool"
      ]
     },
     "execution_count": 10,
     "metadata": {},
     "output_type": "execute_result"
    }
   ],
   "source": [
    "gdf.contains(pt0)"
   ]
  }
 ],
 "metadata": {
  "kernelspec": {
   "display_name": "Python 3 (ipykernel)",
   "language": "python",
   "name": "python3"
  },
  "language_info": {
   "codemirror_mode": {
    "name": "ipython",
    "version": 3
   },
   "file_extension": ".py",
   "mimetype": "text/x-python",
   "name": "python",
   "nbconvert_exporter": "python",
   "pygments_lexer": "ipython3",
   "version": "3.12.2"
  }
 },
 "nbformat": 4,
 "nbformat_minor": 5
}
