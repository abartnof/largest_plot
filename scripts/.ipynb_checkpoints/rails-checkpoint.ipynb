{
 "cells": [
  {
   "cell_type": "markdown",
   "id": "7076b9e2-ac5a-4288-9980-84db8de821a8",
   "metadata": {},
   "source": [
    "# Overlay rails map with area of interest\n",
    "\n",
    "Notes on the rail buffering:\n",
    "- round style prevents breaks in the buffers\n",
    "- USA uses standard track guage (https://en.wikipedia.org/wiki/Track_gauge_in_the_United_States), which is about 1.5m wide"
   ]
  },
  {
   "cell_type": "code",
   "execution_count": 1,
   "id": "f7d57e3b-6e05-4054-a68e-a13d8ba977a1",
   "metadata": {},
   "outputs": [],
   "source": [
    "import pandas as pd\n",
    "import geopandas as gpd\n",
    "import numpy as np\n",
    "import matplotlib.pyplot as plt\n",
    "from shapely.geometry import Point, box, LineString\n",
    "from shapely import intersection\n",
    "from tqdm.notebook import tqdm\n",
    "\n",
    "target_epsg = 6350  # https://epsg.org/crs_6350/NAD83-2011-Conus-Albers.html?sessionkey=nb47agmo4r"
   ]
  },
  {
   "cell_type": "code",
   "execution_count": 2,
   "id": "d843be18-248a-4445-bdd6-e632596ab26a",
   "metadata": {},
   "outputs": [],
   "source": [
    "fn_aoi = '/Volumes/Extreme SSD/largest_plots/clean_data/aoi.parquet'\n",
    "fn_rails = '/Volumes/Extreme SSD/largest_plots/raw_data/tl_2023_us_rails.zip'\n",
    "fn_rail_overlay = '/Volumes/Extreme SSD/largest_plots/clean_data/rails_overlay.parquet'"
   ]
  },
  {
   "cell_type": "code",
   "execution_count": 3,
   "id": "338607fc-350e-411b-8246-02bd891c4e96",
   "metadata": {},
   "outputs": [],
   "source": [
    "Aoi = gpd.read_parquet(fn_aoi).set_geometry('aoi').set_crs(epsg=target_epsg)\n",
    "Rails = gpd.read_file(fn_rails).to_crs(epsg=target_epsg)"
   ]
  },
  {
   "cell_type": "markdown",
   "id": "466d808a-c424-4d84-815a-63b84bc86841",
   "metadata": {},
   "source": [
    "# Transform linear rails to polygons"
   ]
  },
  {
   "cell_type": "code",
   "execution_count": 4,
   "id": "3187d446-6173-4927-9780-15ca5682969e",
   "metadata": {},
   "outputs": [
    {
     "data": {
      "text/html": [
       "<div>\n",
       "<style scoped>\n",
       "    .dataframe tbody tr th:only-of-type {\n",
       "        vertical-align: middle;\n",
       "    }\n",
       "\n",
       "    .dataframe tbody tr th {\n",
       "        vertical-align: top;\n",
       "    }\n",
       "\n",
       "    .dataframe thead th {\n",
       "        text-align: right;\n",
       "    }\n",
       "</style>\n",
       "<table border=\"1\" class=\"dataframe\">\n",
       "  <thead>\n",
       "    <tr style=\"text-align: right;\">\n",
       "      <th></th>\n",
       "      <th>geometry</th>\n",
       "    </tr>\n",
       "  </thead>\n",
       "  <tbody>\n",
       "    <tr>\n",
       "      <th>0</th>\n",
       "      <td>POLYGON ((1480145.928 1505645.640, 1480145.934...</td>\n",
       "    </tr>\n",
       "    <tr>\n",
       "      <th>1</th>\n",
       "      <td>POLYGON ((1480270.626 1505901.408, 1480270.611...</td>\n",
       "    </tr>\n",
       "    <tr>\n",
       "      <th>2</th>\n",
       "      <td>POLYGON ((1480369.404 1506230.074, 1480446.390...</td>\n",
       "    </tr>\n",
       "    <tr>\n",
       "      <th>3</th>\n",
       "      <td>POLYGON ((1489683.637 1470829.123, 1489691.628...</td>\n",
       "    </tr>\n",
       "    <tr>\n",
       "      <th>4</th>\n",
       "      <td>POLYGON ((1486906.929 1462856.479, 1486906.930...</td>\n",
       "    </tr>\n",
       "  </tbody>\n",
       "</table>\n",
       "</div>"
      ],
      "text/plain": [
       "                                            geometry\n",
       "0  POLYGON ((1480145.928 1505645.640, 1480145.934...\n",
       "1  POLYGON ((1480270.626 1505901.408, 1480270.611...\n",
       "2  POLYGON ((1480369.404 1506230.074, 1480446.390...\n",
       "3  POLYGON ((1489683.637 1470829.123, 1489691.628...\n",
       "4  POLYGON ((1486906.929 1462856.479, 1486906.930..."
      ]
     },
     "execution_count": 4,
     "metadata": {},
     "output_type": "execute_result"
    }
   ],
   "source": [
    "RailPolygons = Rails[['geometry']].buffer(distance=0.75, cap_style='round')\n",
    "RailPolygons = RailPolygons.to_frame().rename(columns={0:'geometry'})\n",
    "RailPolygons.set_geometry('geometry', inplace=True)\n",
    "RailPolygons.head()"
   ]
  },
  {
   "cell_type": "code",
   "execution_count": 5,
   "id": "a2ba1af1-a87f-40db-817f-dce7fbe654ee",
   "metadata": {},
   "outputs": [
    {
     "data": {
      "text/plain": [
       "True"
      ]
     },
     "execution_count": 5,
     "metadata": {},
     "output_type": "execute_result"
    }
   ],
   "source": [
    "RailPolygons.shape[0] == Rails.shape[0]"
   ]
  },
  {
   "cell_type": "code",
   "execution_count": 6,
   "id": "d9989b59-dc63-462d-9d1a-f0b6ca497056",
   "metadata": {},
   "outputs": [],
   "source": [
    "Intersection = gpd.sjoin(\n",
    "    RailPolygons, \n",
    "    Aoi, \n",
    "    how='inner', \n",
    "    predicate='intersects',\n",
    "    rsuffix='aoi'\n",
    ")\n",
    "Intersection.head()"
   ]
  },
  {
   "cell_type": "code",
   "execution_count": 8,
   "id": "999d3965-a745-49cb-9c45-a0f5c11a7b1b",
   "metadata": {},
   "outputs": [],
   "source": [
    "FlatIntersection = Intersection.set_geometry('geometry').dissolve(by='index_aoi')\n",
    "FlatIntersection.index.names = ['index']"
   ]
  },
  {
   "cell_type": "code",
   "execution_count": 30,
   "id": "b13d71f0-dea9-41c4-899c-32ebb71a97f0",
   "metadata": {},
   "outputs": [
    {
     "data": {
      "text/html": [
       "<div>\n",
       "<style scoped>\n",
       "    .dataframe tbody tr th:only-of-type {\n",
       "        vertical-align: middle;\n",
       "    }\n",
       "\n",
       "    .dataframe tbody tr th {\n",
       "        vertical-align: top;\n",
       "    }\n",
       "\n",
       "    .dataframe thead th {\n",
       "        text-align: right;\n",
       "    }\n",
       "</style>\n",
       "<table border=\"1\" class=\"dataframe\">\n",
       "  <thead>\n",
       "    <tr style=\"text-align: right;\">\n",
       "      <th></th>\n",
       "      <th>rail_geometry</th>\n",
       "    </tr>\n",
       "    <tr>\n",
       "      <th>index</th>\n",
       "      <th></th>\n",
       "    </tr>\n",
       "  </thead>\n",
       "  <tbody>\n",
       "    <tr>\n",
       "      <th>0</th>\n",
       "      <td>MULTIPOLYGON (((1600592.836 1836255.424, 16005...</td>\n",
       "    </tr>\n",
       "    <tr>\n",
       "      <th>1</th>\n",
       "      <td>MULTIPOLYGON (((1546791.621 1780605.676, 15468...</td>\n",
       "    </tr>\n",
       "    <tr>\n",
       "      <th>2</th>\n",
       "      <td>MULTIPOLYGON (((966290.042 1167967.394, 966290...</td>\n",
       "    </tr>\n",
       "    <tr>\n",
       "      <th>3</th>\n",
       "      <td>MULTIPOLYGON (((527459.803 915570.153, 527460....</td>\n",
       "    </tr>\n",
       "    <tr>\n",
       "      <th>4</th>\n",
       "      <td>MULTIPOLYGON (((1020491.262 1672079.979, 10204...</td>\n",
       "    </tr>\n",
       "  </tbody>\n",
       "</table>\n",
       "</div>"
      ],
      "text/plain": [
       "                                           rail_geometry\n",
       "index                                                   \n",
       "0      MULTIPOLYGON (((1600592.836 1836255.424, 16005...\n",
       "1      MULTIPOLYGON (((1546791.621 1780605.676, 15468...\n",
       "2      MULTIPOLYGON (((966290.042 1167967.394, 966290...\n",
       "3      MULTIPOLYGON (((527459.803 915570.153, 527460....\n",
       "4      MULTIPOLYGON (((1020491.262 1672079.979, 10204..."
      ]
     },
     "execution_count": 30,
     "metadata": {},
     "output_type": "execute_result"
    }
   ],
   "source": [
    "RailOverlay = FlatIntersection['geometry'].intersection(Aoi['aoi'], align=True)\n",
    "RailOverlay = RailOverlay.to_frame().rename(columns={0:'rail_geometry'})\n",
    "RailOverlay = RailOverlay.set_geometry('rail_geometry').set_crs(epsg=target_epsg)\n",
    "RailOverlay.head()"
   ]
  },
  {
   "cell_type": "code",
   "execution_count": 31,
   "id": "c7cbf772-4c07-4564-bcbe-524f01a14ee1",
   "metadata": {},
   "outputs": [
    {
     "data": {
      "text/plain": [
       "True"
      ]
     },
     "execution_count": 31,
     "metadata": {},
     "output_type": "execute_result"
    }
   ],
   "source": [
    "# QC-- are all observations accounted for?\n",
    "set(Aoi.index.tolist()) == set(RailOverlay.index.tolist())"
   ]
  },
  {
   "cell_type": "markdown",
   "id": "e4a04568-01e8-4f98-a72b-e2b0f19ca3f3",
   "metadata": {},
   "source": [
    "QC"
   ]
  },
  {
   "cell_type": "code",
   "execution_count": 11,
   "id": "746daba8-d0b0-4733-bf7f-6a79bbb0883f",
   "metadata": {},
   "outputs": [
    {
     "data": {
      "image/png": "[encoded data removed]",
      "text/plain": [
       "<Figure size 500x500 with 1 Axes>"
      ]
     },
     "metadata": {},
     "output_type": "display_data"
    }
   ],
   "source": [
    "i = 35\n",
    "fig, ax = plt.subplots(figsize=(5,5))\n",
    "Aoi.loc[[i]].boundary.plot(ax=ax)\n",
    "RailOverlay.loc[[i]].buffer(distance=2000).plot(ax=ax, color='red')\n",
    "FlatIntersection.loc[[i]].buffer(distance=1000).plot(ax=ax, color='black')\n",
    "plt.show()"
   ]
  },
  {
   "cell_type": "code",
   "execution_count": 32,
   "id": "8e9c2bd4-08e4-46c9-922b-43ac6d2f2c6b",
   "metadata": {},
   "outputs": [],
   "source": [
    "RailOverlay.to_parquet(fn_rail_overlay)"
   ]
  }
 ],
 "metadata": {
  "kernelspec": {
   "display_name": "Python 3 (ipykernel)",
   "language": "python",
   "name": "python3"
  },
  "language_info": {
   "codemirror_mode": {
    "name": "ipython",
    "version": 3
   },
   "file_extension": ".py",
   "mimetype": "text/x-python",
   "name": "python",
   "nbconvert_exporter": "python",
   "pygments_lexer": "ipython3",
   "version": "3.12.2"
  }
 },
 "nbformat": 4,
 "nbformat_minor": 5
}
