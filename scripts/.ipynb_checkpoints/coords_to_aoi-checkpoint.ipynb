{
 "cells": [
  {
   "cell_type": "markdown",
   "id": "5bdf97d4-2be1-4d5e-a805-be06afb292e0",
   "metadata": {},
   "source": [
    "# Set up areas of interest\n",
    "\n",
    "Notes on the chosen map projection, __EPSG:6350__ (https://epsg.io/6350 and https://en.wikipedia.org/wiki/Albers_projection):\n",
    "- A conic, equal area map projection\n",
    "- Scope: Data analysis and small scale data presentation for contiguous lower 48 states\n",
    "- Coordinate system: Cartesian 2D CS. Axes: easting, northing (X,Y). Orientations: east, north. UoM: m\n",
    "\n",
    "Creates square areas of interest, 100km x 100km"
   ]
  },
  {
   "cell_type": "code",
   "execution_count": 1,
   "id": "b0968999-ccf4-49c2-a6a6-17ce7e63aec9",
   "metadata": {},
   "outputs": [],
   "source": [
    "import pandas as pd\n",
    "import geopandas as gpd\n",
    "import numpy as np\n",
    "import matplotlib.pyplot as plt\n",
    "from shapely.geometry import Point #, box, LineString\n",
    "from glob import glob"
   ]
  },
  {
   "cell_type": "code",
   "execution_count": 2,
   "id": "1b1e8f2f-d971-421a-8e9b-7d2e67c29c6f",
   "metadata": {},
   "outputs": [],
   "source": [
    "# Conic, equal-area map projection; meters in lieu of geodetic coords\n",
    "target_epsg = 6350  # https://epsg.org/crs_6350/NAD83-2011-Conus-Albers.html?sessionkey=nb47agmo4r\n",
    "\n",
    "# fn_coords_in = '/Volumes/Extreme SSD/largest_plots/raw_data/colo_sites(202409301939).csv'\n",
    "fn_coords_out = '/Volumes/Extreme SSD/largest_plots/clean_data/coords.parquet'\n",
    "fn_aoi_out = '/Volumes/Extreme SSD/largest_plots/clean_data/aoi.parquet'"
   ]
  },
  {
   "cell_type": "code",
   "execution_count": 3,
   "id": "ad802856-425b-47c3-908d-ac67eb22670b",
   "metadata": {},
   "outputs": [
    {
     "data": {
      "text/html": [
       "<div>\n",
       "<style scoped>\n",
       "    .dataframe tbody tr th:only-of-type {\n",
       "        vertical-align: middle;\n",
       "    }\n",
       "\n",
       "    .dataframe tbody tr th {\n",
       "        vertical-align: top;\n",
       "    }\n",
       "\n",
       "    .dataframe thead th {\n",
       "        text-align: right;\n",
       "    }\n",
       "</style>\n",
       "<table border=\"1\" class=\"dataframe\">\n",
       "  <thead>\n",
       "    <tr style=\"text-align: right;\">\n",
       "      <th></th>\n",
       "      <th>index</th>\n",
       "      <th>ba_code</th>\n",
       "      <th>fos_id</th>\n",
       "      <th>latitude</th>\n",
       "      <th>longitude</th>\n",
       "      <th>plant_name_eia</th>\n",
       "      <th>street_address</th>\n",
       "      <th>state</th>\n",
       "      <th>zip_code</th>\n",
       "    </tr>\n",
       "  </thead>\n",
       "  <tbody>\n",
       "    <tr>\n",
       "      <th>0</th>\n",
       "      <td>0</td>\n",
       "      <td>186</td>\n",
       "      <td>7838</td>\n",
       "      <td>38.54420</td>\n",
       "      <td>-77.77140</td>\n",
       "      <td>Remington</td>\n",
       "      <td>12025 Lucky Hill Road</td>\n",
       "      <td>VA</td>\n",
       "      <td>22734.0</td>\n",
       "    </tr>\n",
       "    <tr>\n",
       "      <th>1</th>\n",
       "      <td>1</td>\n",
       "      <td>186</td>\n",
       "      <td>7839</td>\n",
       "      <td>38.07220</td>\n",
       "      <td>-77.51330</td>\n",
       "      <td>Ladysmith</td>\n",
       "      <td>8063 Cedon Road</td>\n",
       "      <td>VA</td>\n",
       "      <td>22580.0</td>\n",
       "    </tr>\n",
       "    <tr>\n",
       "      <th>2</th>\n",
       "      <td>2</td>\n",
       "      <td>2</td>\n",
       "      <td>55409</td>\n",
       "      <td>33.58830</td>\n",
       "      <td>-85.97310</td>\n",
       "      <td>Calhoun Power Co I LLC</td>\n",
       "      <td>NaN</td>\n",
       "      <td>AL</td>\n",
       "      <td>36260.0</td>\n",
       "    </tr>\n",
       "    <tr>\n",
       "      <th>3</th>\n",
       "      <td>3</td>\n",
       "      <td>552</td>\n",
       "      <td>7988</td>\n",
       "      <td>31.60040</td>\n",
       "      <td>-89.94680</td>\n",
       "      <td>Silver Creek</td>\n",
       "      <td>217 Moses Lane</td>\n",
       "      <td>MS</td>\n",
       "      <td>39474.0</td>\n",
       "    </tr>\n",
       "    <tr>\n",
       "      <th>4</th>\n",
       "      <td>4</td>\n",
       "      <td>556</td>\n",
       "      <td>54</td>\n",
       "      <td>37.88330</td>\n",
       "      <td>-84.10170</td>\n",
       "      <td>J K Smith</td>\n",
       "      <td>12145 Irvine Road</td>\n",
       "      <td>KY</td>\n",
       "      <td>40391.0</td>\n",
       "    </tr>\n",
       "    <tr>\n",
       "      <th>...</th>\n",
       "      <td>...</td>\n",
       "      <td>...</td>\n",
       "      <td>...</td>\n",
       "      <td>...</td>\n",
       "      <td>...</td>\n",
       "      <td>...</td>\n",
       "      <td>...</td>\n",
       "      <td>...</td>\n",
       "      <td>...</td>\n",
       "    </tr>\n",
       "    <tr>\n",
       "      <th>226</th>\n",
       "      <td>51</td>\n",
       "      <td>PJM</td>\n",
       "      <td>55438</td>\n",
       "      <td>42.00006</td>\n",
       "      <td>-88.24457</td>\n",
       "      <td>Elgin Energy Center</td>\n",
       "      <td>1559 Gifford Road</td>\n",
       "      <td>IL</td>\n",
       "      <td>60120.0</td>\n",
       "    </tr>\n",
       "    <tr>\n",
       "      <th>227</th>\n",
       "      <td>52</td>\n",
       "      <td>PJM</td>\n",
       "      <td>55640</td>\n",
       "      <td>41.44250</td>\n",
       "      <td>-87.75140</td>\n",
       "      <td>University Park Power</td>\n",
       "      <td>787 Industrial Drive</td>\n",
       "      <td>IL</td>\n",
       "      <td>NaN</td>\n",
       "    </tr>\n",
       "    <tr>\n",
       "      <th>228</th>\n",
       "      <td>53</td>\n",
       "      <td>PJM</td>\n",
       "      <td>55936</td>\n",
       "      <td>42.23830</td>\n",
       "      <td>-89.10110</td>\n",
       "      <td>NRG Rockford II Energy Center</td>\n",
       "      <td>136 Harrison Ave</td>\n",
       "      <td>IL</td>\n",
       "      <td>61104.0</td>\n",
       "    </tr>\n",
       "    <tr>\n",
       "      <th>229</th>\n",
       "      <td>54</td>\n",
       "      <td>PJM</td>\n",
       "      <td>55938</td>\n",
       "      <td>40.06330</td>\n",
       "      <td>-74.16720</td>\n",
       "      <td>Ocean Peaking Power LP</td>\n",
       "      <td>123 Energy Way</td>\n",
       "      <td>NJ</td>\n",
       "      <td>8701.0</td>\n",
       "    </tr>\n",
       "    <tr>\n",
       "      <th>230</th>\n",
       "      <td>55</td>\n",
       "      <td>SWPP</td>\n",
       "      <td>56328</td>\n",
       "      <td>36.18550</td>\n",
       "      <td>-94.28410</td>\n",
       "      <td>Tontitown</td>\n",
       "      <td>Liberty Ave</td>\n",
       "      <td>AR</td>\n",
       "      <td>72770.0</td>\n",
       "    </tr>\n",
       "  </tbody>\n",
       "</table>\n",
       "<p>231 rows × 9 columns</p>\n",
       "</div>"
      ],
      "text/plain": [
       "     index ba_code  fos_id  latitude  longitude  \\\n",
       "0        0     186    7838  38.54420  -77.77140   \n",
       "1        1     186    7839  38.07220  -77.51330   \n",
       "2        2       2   55409  33.58830  -85.97310   \n",
       "3        3     552    7988  31.60040  -89.94680   \n",
       "4        4     556      54  37.88330  -84.10170   \n",
       "..     ...     ...     ...       ...        ...   \n",
       "226     51     PJM   55438  42.00006  -88.24457   \n",
       "227     52     PJM   55640  41.44250  -87.75140   \n",
       "228     53     PJM   55936  42.23830  -89.10110   \n",
       "229     54     PJM   55938  40.06330  -74.16720   \n",
       "230     55    SWPP   56328  36.18550  -94.28410   \n",
       "\n",
       "                    plant_name_eia         street_address state  zip_code  \n",
       "0                        Remington  12025 Lucky Hill Road    VA   22734.0  \n",
       "1                        Ladysmith        8063 Cedon Road    VA   22580.0  \n",
       "2           Calhoun Power Co I LLC                    NaN    AL   36260.0  \n",
       "3                     Silver Creek         217 Moses Lane    MS   39474.0  \n",
       "4                        J K Smith      12145 Irvine Road    KY   40391.0  \n",
       "..                             ...                    ...   ...       ...  \n",
       "226            Elgin Energy Center      1559 Gifford Road    IL   60120.0  \n",
       "227          University Park Power   787 Industrial Drive    IL       NaN  \n",
       "228  NRG Rockford II Energy Center       136 Harrison Ave    IL   61104.0  \n",
       "229         Ocean Peaking Power LP         123 Energy Way    NJ    8701.0  \n",
       "230                      Tontitown            Liberty Ave    AR   72770.0  \n",
       "\n",
       "[231 rows x 9 columns]"
      ]
     },
     "execution_count": 3,
     "metadata": {},
     "output_type": "execute_result"
    }
   ],
   "source": [
    "list_fn_coords_in = glob(\"/Volumes/Extreme SSD/largest_plots/raw_data/input_files/*.csv\")\n",
    "\n",
    "CoordsRaw = pd.concat(\n",
    "    [pd.read_csv(fn) for fn in list_fn_coords_in]\n",
    ")\n",
    "CoordsRaw = CoordsRaw.reset_index()\n",
    "CoordsRaw = CoordsRaw.drop('Unnamed: 0', axis=1)\n",
    "CoordsRaw"
   ]
  },
  {
   "cell_type": "markdown",
   "id": "9bd70308-7d98-4191-9841-3338c42c1260",
   "metadata": {},
   "source": [
    "Create column of geodetic coordinates, then translate to the preferred coordinate system"
   ]
  },
  {
   "cell_type": "code",
   "execution_count": 4,
   "id": "852ff3c0-8bc0-411b-9d5b-613d1058377a",
   "metadata": {},
   "outputs": [
    {
     "data": {
      "text/html": [
       "<div>\n",
       "<style scoped>\n",
       "    .dataframe tbody tr th:only-of-type {\n",
       "        vertical-align: middle;\n",
       "    }\n",
       "\n",
       "    .dataframe tbody tr th {\n",
       "        vertical-align: top;\n",
       "    }\n",
       "\n",
       "    .dataframe thead th {\n",
       "        text-align: right;\n",
       "    }\n",
       "</style>\n",
       "<table border=\"1\" class=\"dataframe\">\n",
       "  <thead>\n",
       "    <tr style=\"text-align: right;\">\n",
       "      <th></th>\n",
       "      <th>index</th>\n",
       "      <th>ba_code</th>\n",
       "      <th>fos_id</th>\n",
       "      <th>latitude</th>\n",
       "      <th>longitude</th>\n",
       "      <th>plant_name_eia</th>\n",
       "      <th>street_address</th>\n",
       "      <th>state</th>\n",
       "      <th>zip_code</th>\n",
       "      <th>geometry</th>\n",
       "    </tr>\n",
       "  </thead>\n",
       "  <tbody>\n",
       "    <tr>\n",
       "      <th>0</th>\n",
       "      <td>0</td>\n",
       "      <td>186</td>\n",
       "      <td>7838</td>\n",
       "      <td>38.5442</td>\n",
       "      <td>-77.7714</td>\n",
       "      <td>Remington</td>\n",
       "      <td>12025 Lucky Hill Road</td>\n",
       "      <td>VA</td>\n",
       "      <td>22734.0</td>\n",
       "      <td>POINT (1564214.352 1874301.664)</td>\n",
       "    </tr>\n",
       "    <tr>\n",
       "      <th>1</th>\n",
       "      <td>1</td>\n",
       "      <td>186</td>\n",
       "      <td>7839</td>\n",
       "      <td>38.0722</td>\n",
       "      <td>-77.5133</td>\n",
       "      <td>Ladysmith</td>\n",
       "      <td>8063 Cedon Road</td>\n",
       "      <td>VA</td>\n",
       "      <td>22580.0</td>\n",
       "      <td>POINT (1596310.759 1826672.903)</td>\n",
       "    </tr>\n",
       "    <tr>\n",
       "      <th>2</th>\n",
       "      <td>2</td>\n",
       "      <td>2</td>\n",
       "      <td>55409</td>\n",
       "      <td>33.5883</td>\n",
       "      <td>-85.9731</td>\n",
       "      <td>Calhoun Power Co I LLC</td>\n",
       "      <td>NaN</td>\n",
       "      <td>AL</td>\n",
       "      <td>36260.0</td>\n",
       "      <td>POINT (922544.505 1217691.762)</td>\n",
       "    </tr>\n",
       "    <tr>\n",
       "      <th>3</th>\n",
       "      <td>3</td>\n",
       "      <td>552</td>\n",
       "      <td>7988</td>\n",
       "      <td>31.6004</td>\n",
       "      <td>-89.9468</td>\n",
       "      <td>Silver Creek</td>\n",
       "      <td>217 Moses Lane</td>\n",
       "      <td>MS</td>\n",
       "      <td>39474.0</td>\n",
       "      <td>POINT (571705.905 965488.637)</td>\n",
       "    </tr>\n",
       "    <tr>\n",
       "      <th>4</th>\n",
       "      <td>4</td>\n",
       "      <td>556</td>\n",
       "      <td>54</td>\n",
       "      <td>37.8833</td>\n",
       "      <td>-84.1017</td>\n",
       "      <td>J K Smith</td>\n",
       "      <td>12145 Irvine Road</td>\n",
       "      <td>KY</td>\n",
       "      <td>40391.0</td>\n",
       "      <td>POINT (1033861.364 1714550.020)</td>\n",
       "    </tr>\n",
       "  </tbody>\n",
       "</table>\n",
       "</div>"
      ],
      "text/plain": [
       "   index ba_code  fos_id  latitude  longitude          plant_name_eia  \\\n",
       "0      0     186    7838   38.5442   -77.7714               Remington   \n",
       "1      1     186    7839   38.0722   -77.5133               Ladysmith   \n",
       "2      2       2   55409   33.5883   -85.9731  Calhoun Power Co I LLC   \n",
       "3      3     552    7988   31.6004   -89.9468            Silver Creek   \n",
       "4      4     556      54   37.8833   -84.1017               J K Smith   \n",
       "\n",
       "          street_address state  zip_code                         geometry  \n",
       "0  12025 Lucky Hill Road    VA   22734.0  POINT (1564214.352 1874301.664)  \n",
       "1        8063 Cedon Road    VA   22580.0  POINT (1596310.759 1826672.903)  \n",
       "2                    NaN    AL   36260.0   POINT (922544.505 1217691.762)  \n",
       "3         217 Moses Lane    MS   39474.0    POINT (571705.905 965488.637)  \n",
       "4      12145 Irvine Road    KY   40391.0  POINT (1033861.364 1714550.020)  "
      ]
     },
     "execution_count": 4,
     "metadata": {},
     "output_type": "execute_result"
    }
   ],
   "source": [
    "geometry = [Point(xy) for xy in zip(CoordsRaw.longitude, CoordsRaw.latitude)]\n",
    "\n",
    "Coords = gpd.GeoDataFrame(CoordsRaw, geometry=geometry)\n",
    "Coords.set_crs(epsg=4326, inplace=True)  # Default used in GPS https://epsg.io/4326#google_vignette\n",
    "Coords.to_crs(epsg=target_epsg, inplace=True)\n",
    "Coords.head()"
   ]
  },
  {
   "cell_type": "code",
   "execution_count": 5,
   "id": "22f59dba-04ac-44ab-bb8a-0376c6e5e108",
   "metadata": {},
   "outputs": [
    {
     "data": {
      "text/plain": [
       "0"
      ]
     },
     "execution_count": 5,
     "metadata": {},
     "output_type": "execute_result"
    }
   ],
   "source": [
    "# Are there any missing values in the geometry column?\n",
    "Coords.geometry.isnull().sum()"
   ]
  },
  {
   "cell_type": "markdown",
   "id": "99871c81-e4e1-4444-9752-dd0a52451c15",
   "metadata": {},
   "source": [
    "Create 'buffers', aka, areas of interest: 100km square"
   ]
  },
  {
   "cell_type": "code",
   "execution_count": 6,
   "id": "c47db9a3-52de-4c1e-a25d-5a0d2b99c702",
   "metadata": {},
   "outputs": [
    {
     "data": {
      "text/html": [
       "<div>\n",
       "<style scoped>\n",
       "    .dataframe tbody tr th:only-of-type {\n",
       "        vertical-align: middle;\n",
       "    }\n",
       "\n",
       "    .dataframe tbody tr th {\n",
       "        vertical-align: top;\n",
       "    }\n",
       "\n",
       "    .dataframe thead th {\n",
       "        text-align: right;\n",
       "    }\n",
       "</style>\n",
       "<table border=\"1\" class=\"dataframe\">\n",
       "  <thead>\n",
       "    <tr style=\"text-align: right;\">\n",
       "      <th></th>\n",
       "      <th>aoi</th>\n",
       "    </tr>\n",
       "  </thead>\n",
       "  <tbody>\n",
       "    <tr>\n",
       "      <th>0</th>\n",
       "      <td>POLYGON ((1614214.352 1924301.664, 1614214.352...</td>\n",
       "    </tr>\n",
       "    <tr>\n",
       "      <th>1</th>\n",
       "      <td>POLYGON ((1646310.759 1876672.903, 1646310.759...</td>\n",
       "    </tr>\n",
       "    <tr>\n",
       "      <th>2</th>\n",
       "      <td>POLYGON ((972544.505 1267691.762, 972544.505 1...</td>\n",
       "    </tr>\n",
       "    <tr>\n",
       "      <th>3</th>\n",
       "      <td>POLYGON ((621705.905 1015488.637, 621705.905 9...</td>\n",
       "    </tr>\n",
       "    <tr>\n",
       "      <th>4</th>\n",
       "      <td>POLYGON ((1083861.364 1764550.020, 1083861.364...</td>\n",
       "    </tr>\n",
       "  </tbody>\n",
       "</table>\n",
       "</div>"
      ],
      "text/plain": [
       "                                                 aoi\n",
       "0  POLYGON ((1614214.352 1924301.664, 1614214.352...\n",
       "1  POLYGON ((1646310.759 1876672.903, 1646310.759...\n",
       "2  POLYGON ((972544.505 1267691.762, 972544.505 1...\n",
       "3  POLYGON ((621705.905 1015488.637, 621705.905 9...\n",
       "4  POLYGON ((1083861.364 1764550.020, 1083861.364..."
      ]
     },
     "execution_count": 6,
     "metadata": {},
     "output_type": "execute_result"
    }
   ],
   "source": [
    "aoi_list = Coords.buffer(1e3*50, cap_style='square')  # 1e3 * 50m is the 'radius' (half width, because we're using a square buffer.) this means we'll have 100km**2\n",
    "Aoi = gpd.GeoDataFrame({'aoi':aoi_list})\n",
    "Aoi.set_geometry('aoi', inplace=True)\n",
    "Aoi.set_crs(epsg=target_epsg, inplace=True)\n",
    "Aoi.head()"
   ]
  },
  {
   "cell_type": "markdown",
   "id": "6f553837-0393-4fe6-bc7e-291005e443fe",
   "metadata": {},
   "source": [
    "Optional QC"
   ]
  },
  {
   "cell_type": "code",
   "execution_count": 7,
   "id": "61f81651-9c6e-4344-b578-c853a148e90c",
   "metadata": {},
   "outputs": [
    {
     "data": {
      "image/png": "[encoded data removed]",
      "text/plain": [
       "<Figure size 800x800 with 1 Axes>"
      ]
     },
     "metadata": {},
     "output_type": "display_data"
    }
   ],
   "source": [
    "fig, ax = plt.subplots(figsize=(8, 8))\n",
    "Aoi.plot(ax=ax, color = 'steelblue')\n",
    "Coords.plot(ax=ax, color = 'red')\n",
    "plt.show()"
   ]
  },
  {
   "cell_type": "code",
   "execution_count": 8,
   "id": "7f00ed26-3713-4535-b25d-e14179032fdb",
   "metadata": {},
   "outputs": [
    {
     "data": {
      "text/plain": [
       "{1.0}"
      ]
     },
     "execution_count": 8,
     "metadata": {},
     "output_type": "execute_result"
    }
   ],
   "source": [
    "# Make sure each area is 100km * 100km\n",
    "set(np.round( \n",
    "    Aoi.area / ((100.0*1e3) * (100.0*1e3)) \n",
    "))"
   ]
  },
  {
   "cell_type": "markdown",
   "id": "bf332a24-030d-425b-a429-af5c0ab45bfa",
   "metadata": {},
   "source": [
    "Make sure every observation is accounted for."
   ]
  },
  {
   "cell_type": "code",
   "execution_count": 9,
   "id": "e06443df-63d0-4e21-b22a-a543010bc309",
   "metadata": {},
   "outputs": [
    {
     "data": {
      "text/plain": [
       "True"
      ]
     },
     "execution_count": 9,
     "metadata": {},
     "output_type": "execute_result"
    }
   ],
   "source": [
    "CoordsRaw.shape[0] == Coords.shape[0]"
   ]
  },
  {
   "cell_type": "code",
   "execution_count": 10,
   "id": "010d9c7d-58eb-4a69-98eb-9457224e0027",
   "metadata": {},
   "outputs": [
    {
     "data": {
      "text/plain": [
       "True"
      ]
     },
     "execution_count": 10,
     "metadata": {},
     "output_type": "execute_result"
    }
   ],
   "source": [
    "CoordsRaw.shape[0] == Aoi.shape[0]"
   ]
  },
  {
   "cell_type": "markdown",
   "id": "c313d43e-4322-40dc-b313-bdf5b8a540e5",
   "metadata": {},
   "source": [
    "Write to disk"
   ]
  },
  {
   "cell_type": "code",
   "execution_count": 11,
   "id": "50bfe608-a1fd-41d5-ae36-1f19957e97f7",
   "metadata": {},
   "outputs": [],
   "source": [
    "Coords.to_parquet(fn_coords_out)\n",
    "Aoi.to_parquet(fn_aoi_out)"
   ]
  },
  {
   "cell_type": "code",
   "execution_count": null,
   "id": "d190a753-f0d5-4f03-88e7-fb9d3fbd882b",
   "metadata": {},
   "outputs": [],
   "source": []
  }
 ],
 "metadata": {
  "kernelspec": {
   "display_name": "Python 3 (ipykernel)",
   "language": "python",
   "name": "python3"
  },
  "language_info": {
   "codemirror_mode": {
    "name": "ipython",
    "version": 3
   },
   "file_extension": ".py",
   "mimetype": "text/x-python",
   "name": "python",
   "nbconvert_exporter": "python",
   "pygments_lexer": "ipython3",
   "version": "3.12.2"
  }
 },
 "nbformat": 4,
 "nbformat_minor": 5
}
