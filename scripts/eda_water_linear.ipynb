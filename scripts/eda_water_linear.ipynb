{
 "cells": [
  {
   "cell_type": "code",
   "execution_count": 13,
   "id": "bd159265-2d4e-4c4f-b975-737b6b957590",
   "metadata": {},
   "outputs": [],
   "source": [
    "import pandas as pd\n",
    "import geopandas as gpd\n",
    "import numpy as np\n",
    "import matplotlib.pyplot as plt\n",
    "# from shapely.geometry import Point, box, LineString\n",
    "from shapely import intersection\n",
    "from tqdm.notebook import tqdm\n",
    "import glob\n",
    "from functools import reduce\n",
    "\n",
    "\n",
    "target_epsg = 6350  # https://epsg.org/crs_6350/NAD83-2011-Conus-Albers.html?sessionkey=nb47agmo4r"
   ]
  },
  {
   "cell_type": "code",
   "execution_count": 2,
   "id": "19bf9789-c4d3-44fb-a0a6-47b72d990ffa",
   "metadata": {},
   "outputs": [],
   "source": [
    "fn_aoi = '/Volumes/Extreme SSD/largest_plots/clean_data/aoi.parquet'\n",
    "fn_water_linear_overlay = '/Volumes/Extreme SSD/largest_plots/clean_data/water_overlay.parquet'\n",
    "dir_water_linear = '/Volumes/Extreme SSD/largest_plots/raw_data/linear_water/*.zip'"
   ]
  },
  {
   "cell_type": "code",
   "execution_count": 3,
   "id": "af9375b9-e91c-4114-9b9a-16a8400134e0",
   "metadata": {},
   "outputs": [],
   "source": [
    "Aoi = gpd.read_parquet(fn_aoi).set_geometry('aoi').set_crs(epsg=target_epsg)"
   ]
  },
  {
   "cell_type": "code",
   "execution_count": 5,
   "id": "781668f2-a034-4a79-bcc7-c9e758611425",
   "metadata": {},
   "outputs": [],
   "source": [
    "# pattern_water_linear = dir_water_linear + '/*.zip'\n",
    "fn_list_water_linear = glob.glob(dir_water_linear)"
   ]
  },
  {
   "cell_type": "code",
   "execution_count": 8,
   "id": "b8c363b7-1c14-4d50-894f-fea9f80afcf6",
   "metadata": {},
   "outputs": [],
   "source": [
    "fn_water_linear = fn_list_water_linear[0]\n",
    "WaterLinear = gpd.read_file(fn_water_linear)"
   ]
  },
  {
   "cell_type": "code",
   "execution_count": 11,
   "id": "37999c89-7d4d-4df3-b283-72ebc7361a81",
   "metadata": {},
   "outputs": [
    {
     "data": {
      "application/vnd.jupyter.widget-view+json": {
       "model_id": "44abbc560c094e15873744c53a3ba94d",
       "version_major": 2,
       "version_minor": 0
      },
      "text/plain": [
       "  0%|          | 0/3233 [00:00<?, ?it/s]"
      ]
     },
     "metadata": {},
     "output_type": "display_data"
    }
   ],
   "source": [
    "artpath_list = []\n",
    "mtfcc_list = []\n",
    "\n",
    "for fn_water_linear in tqdm(fn_list_water_linear):\n",
    "    WaterLinear = gpd.read_file(fn_water_linear)#.to_crs(epsg=target_epsg)\n",
    "    artpath_list.append(WaterLinear.ARTPATH.value_counts())\n",
    "    mtfcc_list.append(WaterLinear.MTFCC.value_counts())"
   ]
  },
  {
   "cell_type": "code",
   "execution_count": 14,
   "id": "7229cabf-d5e9-4c24-8e0a-8f75373949d6",
   "metadata": {},
   "outputs": [
    {
     "data": {
      "text/html": [
       "<div>\n",
       "<style scoped>\n",
       "    .dataframe tbody tr th:only-of-type {\n",
       "        vertical-align: middle;\n",
       "    }\n",
       "\n",
       "    .dataframe tbody tr th {\n",
       "        vertical-align: top;\n",
       "    }\n",
       "\n",
       "    .dataframe thead th {\n",
       "        text-align: right;\n",
       "    }\n",
       "</style>\n",
       "<table border=\"1\" class=\"dataframe\">\n",
       "  <thead>\n",
       "    <tr style=\"text-align: right;\">\n",
       "      <th></th>\n",
       "      <th>count</th>\n",
       "    </tr>\n",
       "    <tr>\n",
       "      <th>ARTPATH</th>\n",
       "      <th></th>\n",
       "    </tr>\n",
       "  </thead>\n",
       "  <tbody>\n",
       "    <tr>\n",
       "      <th>N</th>\n",
       "      <td>4860984</td>\n",
       "    </tr>\n",
       "    <tr>\n",
       "      <th>U</th>\n",
       "      <td>800666</td>\n",
       "    </tr>\n",
       "    <tr>\n",
       "      <th>C</th>\n",
       "      <td>22635</td>\n",
       "    </tr>\n",
       "  </tbody>\n",
       "</table>\n",
       "</div>"
      ],
      "text/plain": [
       "           count\n",
       "ARTPATH         \n",
       "N        4860984\n",
       "U         800666\n",
       "C          22635"
      ]
     },
     "execution_count": 14,
     "metadata": {},
     "output_type": "execute_result"
    }
   ],
   "source": [
    "reduce(lambda x,y: x.add(y, fill_value=0), artpath_list).astype(int).to_frame().sort_values('count', ascending = False)"
   ]
  },
  {
   "cell_type": "code",
   "execution_count": 15,
   "id": "775b5a24-4cd9-42be-86c7-ce726b4367fe",
   "metadata": {},
   "outputs": [
    {
     "data": {
      "text/html": [
       "<div>\n",
       "<style scoped>\n",
       "    .dataframe tbody tr th:only-of-type {\n",
       "        vertical-align: middle;\n",
       "    }\n",
       "\n",
       "    .dataframe tbody tr th {\n",
       "        vertical-align: top;\n",
       "    }\n",
       "\n",
       "    .dataframe thead th {\n",
       "        text-align: right;\n",
       "    }\n",
       "</style>\n",
       "<table border=\"1\" class=\"dataframe\">\n",
       "  <thead>\n",
       "    <tr style=\"text-align: right;\">\n",
       "      <th></th>\n",
       "      <th>count</th>\n",
       "    </tr>\n",
       "    <tr>\n",
       "      <th>MTFCC</th>\n",
       "      <th></th>\n",
       "    </tr>\n",
       "  </thead>\n",
       "  <tbody>\n",
       "    <tr>\n",
       "      <th>H3010</th>\n",
       "      <td>5200646</td>\n",
       "    </tr>\n",
       "    <tr>\n",
       "      <th>H3020</th>\n",
       "      <td>325319</td>\n",
       "    </tr>\n",
       "    <tr>\n",
       "      <th>H1100</th>\n",
       "      <td>151441</td>\n",
       "    </tr>\n",
       "    <tr>\n",
       "      <th>H3013</th>\n",
       "      <td>6879</td>\n",
       "    </tr>\n",
       "  </tbody>\n",
       "</table>\n",
       "</div>"
      ],
      "text/plain": [
       "         count\n",
       "MTFCC         \n",
       "H3010  5200646\n",
       "H3020   325319\n",
       "H1100   151441\n",
       "H3013     6879"
      ]
     },
     "execution_count": 15,
     "metadata": {},
     "output_type": "execute_result"
    }
   ],
   "source": [
    "reduce(lambda x,y: x.add(y, fill_value=0), mtfcc_list).astype(int).to_frame().sort_values('count', ascending = False)"
   ]
  },
  {
   "cell_type": "markdown",
   "id": "13c521e2-a9f5-4d31-b5c9-78000f0bb2a0",
   "metadata": {},
   "source": [
    "-H3010\n",
    "-Natural flowing stream/river\n",
    "\n",
    "-H3020\n",
    "-Canal, Ditch, or Aqueduct \n",
    "\n",
    "-H1100\n",
    "-Connector\n",
    "\n",
    "-H3013\n",
    "-Braided Stream"
   ]
  },
  {
   "cell_type": "code",
   "execution_count": null,
   "id": "65ab4b0f-cab4-400e-9d38-c28cfeb236b3",
   "metadata": {},
   "outputs": [],
   "source": []
  }
 ],
 "metadata": {
  "kernelspec": {
   "display_name": "Python 3 (ipykernel)",
   "language": "python",
   "name": "python3"
  },
  "language_info": {
   "codemirror_mode": {
    "name": "ipython",
    "version": 3
   },
   "file_extension": ".py",
   "mimetype": "text/x-python",
   "name": "python",
   "nbconvert_exporter": "python",
   "pygments_lexer": "ipython3",
   "version": "3.12.2"
  }
 },
 "nbformat": 4,
 "nbformat_minor": 5
}
