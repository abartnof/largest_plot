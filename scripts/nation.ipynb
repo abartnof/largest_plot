{
 "cells": [
  {
   "cell_type": "markdown",
   "id": "6a079c03-c186-451d-bb72-857e16578d8e",
   "metadata": {},
   "source": [
    "# Overlay Nation Shapefile"
   ]
  },
  {
   "cell_type": "code",
   "execution_count": 2,
   "id": "70fe9315-53c6-4ac8-9f22-4b57caa9f155",
   "metadata": {},
   "outputs": [],
   "source": [
    "import pandas as pd\n",
    "import geopandas as gpd\n",
    "import numpy as np\n",
    "import matplotlib.pyplot as plt\n",
    "from shapely.geometry import Point, box, LineString\n",
    "\n",
    "target_epsg = 6350  # https://epsg.org/crs_6350/NAD83-2011-Conus-Albers.html?sessionkey=nb47agmo4r"
   ]
  },
  {
   "cell_type": "markdown",
   "id": "6b10d7fd-c928-4186-a9f2-d7165a9c2508",
   "metadata": {},
   "source": [
    "Read files"
   ]
  },
  {
   "cell_type": "code",
   "execution_count": null,
   "id": "213a9da4-67a4-4d83-82ed-4ddda513e6dd",
   "metadata": {},
   "outputs": [],
   "source": [
    "fn_aoi = '/Volumes/Extreme SSD/largest_plots/clean_data/aoi.parquet'\n",
    "fn_nation_shape = '/Volumes/Extreme SSD/largest_plots/raw_data/cb_2021_us_all_5m/cb_2021_us_nation_5m.zip'\n",
    "fn_nation_overlay = '/Volumes/Extreme SSD/largest_plots/clean_data/nation_overlay.parquet'"
   ]
  },
  {
   "cell_type": "code",
   "execution_count": null,
   "id": "702cb7da-b692-4ae8-8ea2-d02e6a44bd16",
   "metadata": {},
   "outputs": [],
   "source": [
    "Aoi = gpd.read_parquet(fn_aoi)\n",
    "NationShape = gpd.read_file(fn_nation_shape).to_crs(epsg=target_epsg)\n",
    "# NationShape.head()"
   ]
  },
  {
   "cell_type": "code",
   "execution_count": 13,
   "id": "a27a231f-a972-4af5-8edc-a0fe03f9cdbb",
   "metadata": {},
   "outputs": [],
   "source": [
    "NationOverlay = gpd.overlay(Aoi, NationShape, how='intersection')[['geometry']]"
   ]
  },
  {
   "cell_type": "code",
   "execution_count": 21,
   "id": "df5b7138-c32e-477e-9de4-ed78ddd8bcf6",
   "metadata": {},
   "outputs": [],
   "source": [
    "NationOverlay.to_parquet(fn_nation_overlay)"
   ]
  }
 ],
 "metadata": {
  "kernelspec": {
   "display_name": "Python 3 (ipykernel)",
   "language": "python",
   "name": "python3"
  },
  "language_info": {
   "codemirror_mode": {
    "name": "ipython",
    "version": 3
   },
   "file_extension": ".py",
   "mimetype": "text/x-python",
   "name": "python",
   "nbconvert_exporter": "python",
   "pygments_lexer": "ipython3",
   "version": "3.12.2"
  }
 },
 "nbformat": 4,
 "nbformat_minor": 5
}
