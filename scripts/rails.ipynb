{
 "cells": [
  {
   "cell_type": "markdown",
   "id": "7076b9e2-ac5a-4288-9980-84db8de821a8",
   "metadata": {},
   "source": [
    "# Overlay rails map with area of interest\n",
    "\n",
    "Notes on the rail buffering:\n",
    "- round style prevents breaks in the buffers\n",
    "- USA uses standard track guage (https://en.wikipedia.org/wiki/Track_gauge_in_the_United_States), which is about 1.5m wide"
   ]
  },
  {
   "cell_type": "code",
   "execution_count": 1,
   "id": "f7d57e3b-6e05-4054-a68e-a13d8ba977a1",
   "metadata": {},
   "outputs": [],
   "source": [
    "import pandas as pd\n",
    "import geopandas as gpd\n",
    "import numpy as np\n",
    "import matplotlib.pyplot as plt\n",
    "from shapely.geometry import Point, box, LineString\n",
    "from shapely import intersection\n",
    "from tqdm.notebook import tqdm\n",
    "\n",
    "target_epsg = 6350  # https://epsg.org/crs_6350/NAD83-2011-Conus-Albers.html?sessionkey=nb47agmo4r"
   ]
  },
  {
   "cell_type": "code",
   "execution_count": 2,
   "id": "d843be18-248a-4445-bdd6-e632596ab26a",
   "metadata": {},
   "outputs": [],
   "source": [
    "fn_aoi = '/Volumes/Extreme SSD/largest_plots/clean_data/aoi.parquet'\n",
    "fn_rails = '/Volumes/Extreme SSD/largest_plots/raw_data/tl_2023_us_rails.zip'\n",
    "fn_rail_overlay = '/Volumes/Extreme SSD/largest_plots/clean_data/rails_overlay.parquet'"
   ]
  },
  {
   "cell_type": "code",
   "execution_count": 3,
   "id": "338607fc-350e-411b-8246-02bd891c4e96",
   "metadata": {},
   "outputs": [],
   "source": [
    "Aoi = gpd.read_parquet(fn_aoi)\n",
    "Rails = gpd.read_file(fn_rails).to_crs(epsg=target_epsg)"
   ]
  },
  {
   "cell_type": "markdown",
   "id": "466d808a-c424-4d84-815a-63b84bc86841",
   "metadata": {},
   "source": [
    "# Transform linear rails to polygons"
   ]
  },
  {
   "cell_type": "code",
   "execution_count": 5,
   "id": "3187d446-6173-4927-9780-15ca5682969e",
   "metadata": {},
   "outputs": [
    {
     "data": {
      "text/html": [
       "<div>\n",
       "<style scoped>\n",
       "    .dataframe tbody tr th:only-of-type {\n",
       "        vertical-align: middle;\n",
       "    }\n",
       "\n",
       "    .dataframe tbody tr th {\n",
       "        vertical-align: top;\n",
       "    }\n",
       "\n",
       "    .dataframe thead th {\n",
       "        text-align: right;\n",
       "    }\n",
       "</style>\n",
       "<table border=\"1\" class=\"dataframe\">\n",
       "  <thead>\n",
       "    <tr style=\"text-align: right;\">\n",
       "      <th></th>\n",
       "      <th>geometry</th>\n",
       "    </tr>\n",
       "  </thead>\n",
       "  <tbody>\n",
       "    <tr>\n",
       "      <th>0</th>\n",
       "      <td>POLYGON ((1480145.928 1505645.640, 1480145.934...</td>\n",
       "    </tr>\n",
       "    <tr>\n",
       "      <th>1</th>\n",
       "      <td>POLYGON ((1480270.626 1505901.408, 1480270.611...</td>\n",
       "    </tr>\n",
       "    <tr>\n",
       "      <th>2</th>\n",
       "      <td>POLYGON ((1480369.404 1506230.074, 1480446.390...</td>\n",
       "    </tr>\n",
       "    <tr>\n",
       "      <th>3</th>\n",
       "      <td>POLYGON ((1489683.637 1470829.123, 1489691.628...</td>\n",
       "    </tr>\n",
       "    <tr>\n",
       "      <th>4</th>\n",
       "      <td>POLYGON ((1486906.929 1462856.479, 1486906.930...</td>\n",
       "    </tr>\n",
       "  </tbody>\n",
       "</table>\n",
       "</div>"
      ],
      "text/plain": [
       "                                            geometry\n",
       "0  POLYGON ((1480145.928 1505645.640, 1480145.934...\n",
       "1  POLYGON ((1480270.626 1505901.408, 1480270.611...\n",
       "2  POLYGON ((1480369.404 1506230.074, 1480446.390...\n",
       "3  POLYGON ((1489683.637 1470829.123, 1489691.628...\n",
       "4  POLYGON ((1486906.929 1462856.479, 1486906.930..."
      ]
     },
     "execution_count": 5,
     "metadata": {},
     "output_type": "execute_result"
    }
   ],
   "source": [
    "RailPolygons = Rails[['geometry']].buffer(distance=0.75, cap_style='round')\n",
    "RailPolygons = RailPolygons.to_frame().rename(columns={0:'geometry'})\n",
    "RailPolygons.set_geometry('geometry', inplace=True)\n",
    "RailPolygons.head()"
   ]
  },
  {
   "cell_type": "code",
   "execution_count": 6,
   "id": "a2ba1af1-a87f-40db-817f-dce7fbe654ee",
   "metadata": {},
   "outputs": [
    {
     "data": {
      "text/plain": [
       "True"
      ]
     },
     "execution_count": 6,
     "metadata": {},
     "output_type": "execute_result"
    }
   ],
   "source": [
    "RailPolygons.shape[0] == Rails.shape[0]"
   ]
  },
  {
   "cell_type": "markdown",
   "id": "081098be-6669-41e1-a1af-76a56f0cc4ff",
   "metadata": {},
   "source": [
    "# Look for overlaps"
   ]
  },
  {
   "cell_type": "markdown",
   "id": "e9699ab0-ca6c-4266-9fd7-f9ccfae548af",
   "metadata": {},
   "source": [
    "## Manually do this, to make sure it works conceptually"
   ]
  },
  {
   "cell_type": "code",
   "execution_count": 7,
   "id": "d5345835-5874-4e48-b5cf-5c09fca325af",
   "metadata": {},
   "outputs": [],
   "source": [
    "i = 30\n",
    "single_aoi = Aoi.loc[[i]]\n",
    "RailSubset = gpd.sjoin(RailPolygons, single_aoi, how='inner', predicate='intersects')\n",
    "rail_polygon_flat = RailSubset.unary_union\n",
    "rail_overlay = single_aoi.intersection(rail_polygon_flat)"
   ]
  },
  {
   "cell_type": "code",
   "execution_count": 8,
   "id": "c0cfbe24-cf9b-40d1-b3fa-6a506725f37b",
   "metadata": {},
   "outputs": [
    {
     "data": {
      "text/plain": [
       "<Axes: >"
      ]
     },
     "execution_count": 8,
     "metadata": {},
     "output_type": "execute_result"
    },
    {
     "data": {
      "image/png": "[encoded data removed]",
      "text/plain": [
       "<Figure size 500x500 with 1 Axes>"
      ]
     },
     "metadata": {},
     "output_type": "display_data"
    }
   ],
   "source": [
    "fig, ax = plt.subplots(figsize=(5,5))\n",
    "single_aoi.boundary.plot(ax=ax, color='black')  # our AOI\n",
    "RailSubset.buffer(distance=1000).plot(ax=ax, color='grey')  # All offending lines\n",
    "# gpd.GeoSeries(rail_polygon_flat).buffer(distance=500).plot(ax=ax, color='blue')\n",
    "gpd.GeoSeries(rail_overlay).buffer(distance=200).plot(ax=ax, color='blue')  # All offending lines that are within the AOI  "
   ]
  },
  {
   "cell_type": "code",
   "execution_count": 48,
   "id": "e9c10720-4f7b-49d4-a1a4-48b08e936d53",
   "metadata": {},
   "outputs": [],
   "source": []
  },
  {
   "cell_type": "code",
   "execution_count": 18,
   "id": "faf4a55a-a57c-4f18-8106-f2cdf8b0412a",
   "metadata": {},
   "outputs": [
    {
     "data": {
      "text/plain": [
       "0"
      ]
     },
     "execution_count": 18,
     "metadata": {},
     "output_type": "execute_result"
    }
   ],
   "source": [
    "# Important exception!\n",
    "# If we try to find an overlap with a point in the ocean, we get an empty table.\n",
    "minx, miny, maxx, maxy = Rails.total_bounds\n",
    "foreign_aoi = Point((minx - 500, miny - 500))\n",
    "foreign_aoi = foreign_aoi.buffer(distance=10)\n",
    "foreign_aoi = gpd.GeoSeries(foreign_point).to_frame().set_crs(target_epsg)\n",
    "gpd.sjoin(RailPolygons, foreign_aoi, how='inner', predicate='intersects').shape[0]"
   ]
  },
  {
   "cell_type": "markdown",
   "id": "874ffaa4-7951-42d2-a3be-7f19ed50bf66",
   "metadata": {},
   "source": [
    "## Iterate"
   ]
  },
  {
   "cell_type": "code",
   "execution_count": 84,
   "id": "2c7eb96e-3830-49fa-bd5d-e86aa97f6fca",
   "metadata": {},
   "outputs": [
    {
     "data": {
      "application/vnd.jupyter.widget-view+json": {
       "model_id": "2b5dfed0b506443ab0049b8a76d51b4e",
       "version_major": 2,
       "version_minor": 0
      },
      "text/plain": [
       "  0%|          | 0/56 [00:00<?, ?it/s]"
      ]
     },
     "metadata": {},
     "output_type": "display_data"
    }
   ],
   "source": [
    "overlay_dict = {}\n",
    "for i in tqdm(Aoi.index):\n",
    "    single_aoi = Aoi.loc[[i]]\n",
    "    \n",
    "    RailSubset = gpd.sjoin(RailPolygons, single_aoi, how='inner', predicate='intersects')\n",
    "    if RailSubset.shape[0] > 0:\n",
    "        rail_polygon_flat = RailSubset.unary_union\n",
    "        rail_overlay = single_aoi.intersection(rail_polygon_flat)    \n",
    "        rail_overlay = rail_overlay.to_frame().reset_index(drop=True).loc[0,0]  # the prev line returns a series-- get the singular value therefrom\n",
    "        overlay_dict[i] = rail_overlay\n",
    "    else:\n",
    "        pass"
   ]
  },
  {
   "cell_type": "code",
   "execution_count": 63,
   "id": "ef799fe6-f28f-4427-8a2a-0b2335a9bd36",
   "metadata": {},
   "outputs": [
    {
     "data": {
      "text/plain": [
       "True"
      ]
     },
     "execution_count": 63,
     "metadata": {},
     "output_type": "execute_result"
    }
   ],
   "source": [
    "# Were all AOIs properly munged, ie, no intersections with zero rows?\n",
    "len(overlay_dict.keys()) == Aoi.shape[0]"
   ]
  },
  {
   "cell_type": "code",
   "execution_count": 109,
   "id": "578775b0-8d5d-439c-afa7-6adb89cf04e9",
   "metadata": {},
   "outputs": [
    {
     "data": {
      "text/html": [
       "<div>\n",
       "<style scoped>\n",
       "    .dataframe tbody tr th:only-of-type {\n",
       "        vertical-align: middle;\n",
       "    }\n",
       "\n",
       "    .dataframe tbody tr th {\n",
       "        vertical-align: top;\n",
       "    }\n",
       "\n",
       "    .dataframe thead th {\n",
       "        text-align: right;\n",
       "    }\n",
       "</style>\n",
       "<table border=\"1\" class=\"dataframe\">\n",
       "  <thead>\n",
       "    <tr style=\"text-align: right;\">\n",
       "      <th></th>\n",
       "      <th>geometry</th>\n",
       "    </tr>\n",
       "    <tr>\n",
       "      <th>index</th>\n",
       "      <th></th>\n",
       "    </tr>\n",
       "  </thead>\n",
       "  <tbody>\n",
       "    <tr>\n",
       "      <th>0</th>\n",
       "      <td>MULTIPOLYGON (((1064783.733 1250048.001, 10645...</td>\n",
       "    </tr>\n",
       "    <tr>\n",
       "      <th>1</th>\n",
       "      <td>MULTIPOLYGON (((1253970.757 1239594.718, 12539...</td>\n",
       "    </tr>\n",
       "    <tr>\n",
       "      <th>2</th>\n",
       "      <td>MULTIPOLYGON (((1280030.297 1411939.881, 12799...</td>\n",
       "    </tr>\n",
       "    <tr>\n",
       "      <th>3</th>\n",
       "      <td>MULTIPOLYGON (((1652992.164 1554821.848, 16523...</td>\n",
       "    </tr>\n",
       "    <tr>\n",
       "      <th>4</th>\n",
       "      <td>MULTIPOLYGON (((1517647.954 1454414.009, 15175...</td>\n",
       "    </tr>\n",
       "  </tbody>\n",
       "</table>\n",
       "</div>"
      ],
      "text/plain": [
       "                                                geometry\n",
       "index                                                   \n",
       "0      MULTIPOLYGON (((1064783.733 1250048.001, 10645...\n",
       "1      MULTIPOLYGON (((1253970.757 1239594.718, 12539...\n",
       "2      MULTIPOLYGON (((1280030.297 1411939.881, 12799...\n",
       "3      MULTIPOLYGON (((1652992.164 1554821.848, 16523...\n",
       "4      MULTIPOLYGON (((1517647.954 1454414.009, 15175..."
      ]
     },
     "execution_count": 109,
     "metadata": {},
     "output_type": "execute_result"
    }
   ],
   "source": [
    "RailOverlay = gpd.GeoDataFrame({'index':overlay_dict.keys(), 'geometry':overlay_dict.values()}, crs='epsg:'+str(target_epsg))\n",
    "RailOverlay.set_index('index', drop=True, inplace=True, verify_integrity=True)\n",
    "RailOverlay.set_geometry('geometry')\n",
    "RailOverlay.head()"
   ]
  },
  {
   "cell_type": "code",
   "execution_count": 110,
   "id": "8e9c2bd4-08e4-46c9-922b-43ac6d2f2c6b",
   "metadata": {},
   "outputs": [],
   "source": [
    "RailOverlay.to_parquet(fn_rail_overlay)"
   ]
  }
 ],
 "metadata": {
  "kernelspec": {
   "display_name": "Python 3 (ipykernel)",
   "language": "python",
   "name": "python3"
  },
  "language_info": {
   "codemirror_mode": {
    "name": "ipython",
    "version": 3
   },
   "file_extension": ".py",
   "mimetype": "text/x-python",
   "name": "python",
   "nbconvert_exporter": "python",
   "pygments_lexer": "ipython3",
   "version": "3.12.2"
  }
 },
 "nbformat": 4,
 "nbformat_minor": 5
}
