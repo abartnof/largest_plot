{
 "cells": [
  {
   "cell_type": "markdown",
   "id": "7076b9e2-ac5a-4288-9980-84db8de821a8",
   "metadata": {},
   "source": [
    "# Overlay rails map with area of interest\n",
    "\n",
    "Notes on the rail buffering:\n",
    "- round style prevents breaks in the buffers\n",
    "- USA uses standard track guage (https://en.wikipedia.org/wiki/Track_gauge_in_the_United_States), which is about 1.5m wide"
   ]
  },
  {
   "cell_type": "code",
   "execution_count": 43,
   "id": "f7d57e3b-6e05-4054-a68e-a13d8ba977a1",
   "metadata": {},
   "outputs": [],
   "source": [
    "import pandas as pd\n",
    "import geopandas as gpd\n",
    "import numpy as np\n",
    "import matplotlib.pyplot as plt\n",
    "from shapely.geometry import Point, box, LineString\n",
    "from shapely import intersection\n",
    "\n",
    "target_epsg = 6350  # https://epsg.org/crs_6350/NAD83-2011-Conus-Albers.html?sessionkey=nb47agmo4r"
   ]
  },
  {
   "cell_type": "code",
   "execution_count": 66,
   "id": "d843be18-248a-4445-bdd6-e632596ab26a",
   "metadata": {},
   "outputs": [],
   "source": [
    "fn_aoi = '/Volumes/Extreme SSD/largest_plots/clean_data/aoi.parquet'\n",
    "fn_rails = '/Volumes/Extreme SSD/largest_plots/raw_data/tl_2023_us_rails.zip'\n",
    "fn_rail_overlay = '/Volumes/Extreme SSD/largest_plots/clean_data/rails_overlay.parquet'"
   ]
  },
  {
   "cell_type": "code",
   "execution_count": 7,
   "id": "338607fc-350e-411b-8246-02bd891c4e96",
   "metadata": {},
   "outputs": [],
   "source": [
    "Aoi = gpd.read_parquet(fn_aoi)\n",
    "Rails = gpd.read_file(fn_rails).to_crs(epsg=target_epsg)"
   ]
  },
  {
   "cell_type": "code",
   "execution_count": 60,
   "id": "2c7eb96e-3830-49fa-bd5d-e86aa97f6fca",
   "metadata": {},
   "outputs": [],
   "source": [
    "overlay_list = []\n",
    "for i in Aoi.index:\n",
    "    single_aoi = Aoi.loc[[i]]\n",
    "    \n",
    "    RailSubset = gpd.sjoin(Rails, single_aoi, how='inner', predicate='intersects')\n",
    "    RailPolygons = RailSubset.buffer(distance=0.75, cap_style='round')  # transform the relevant train lines, represented as shapely lines, into polygons with width. these will be easier to overlay onto the AOI\n",
    "    rail_polygon_flat = RailPolygons.unary_union\n",
    "    rail_overlay = Aoi.aoi[i].intersection(rail_polygon_flat)\n",
    "    overlay_list.append(rail_overlay)"
   ]
  },
  {
   "cell_type": "code",
   "execution_count": 68,
   "id": "10b2e928-93ae-480a-8204-a949b949ee70",
   "metadata": {},
   "outputs": [],
   "source": [
    "RailOverlay = gpd.GeoDataFrame({'geometry':overlay_list}).set_geometry('geometry')"
   ]
  },
  {
   "cell_type": "code",
   "execution_count": 69,
   "id": "8e9c2bd4-08e4-46c9-922b-43ac6d2f2c6b",
   "metadata": {},
   "outputs": [],
   "source": [
    "RailOverlay.to_parquet(fn_rail_overlay)"
   ]
  }
 ],
 "metadata": {
  "kernelspec": {
   "display_name": "Python 3 (ipykernel)",
   "language": "python",
   "name": "python3"
  },
  "language_info": {
   "codemirror_mode": {
    "name": "ipython",
    "version": 3
   },
   "file_extension": ".py",
   "mimetype": "text/x-python",
   "name": "python",
   "nbconvert_exporter": "python",
   "pygments_lexer": "ipython3",
   "version": "3.12.2"
  }
 },
 "nbformat": 4,
 "nbformat_minor": 5
}
