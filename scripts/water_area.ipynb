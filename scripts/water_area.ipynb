{
 "cells": [
  {
   "cell_type": "code",
   "execution_count": 1,
   "id": "d770bdc0-d210-47de-bb9e-e24d18d340ba",
   "metadata": {},
   "outputs": [],
   "source": [
    "import pandas as pd\n",
    "import geopandas as gpd\n",
    "import numpy as np\n",
    "import matplotlib.pyplot as plt\n",
    "# from shapely.geometry import Point, box, LineString\n",
    "from shapely import intersection\n",
    "from tqdm.notebook import tqdm\n",
    "import glob\n",
    "\n",
    "target_epsg = 6350  # https://epsg.org/crs_6350/NAD83-2011-Conus-Albers.html?sessionkey=nb47agmo4r"
   ]
  },
  {
   "cell_type": "code",
   "execution_count": 2,
   "id": "4963cb54-9c5b-4955-84db-a8215420328b",
   "metadata": {},
   "outputs": [],
   "source": [
    "fn_aoi = '/Volumes/Extreme SSD/largest_plots/clean_data/aoi.parquet'\n",
    "fn_water_area_overlay = '/Volumes/Extreme SSD/largest_plots/clean_data/water_area_overlay.parquet'\n",
    "dir_water_area = '/Volumes/Extreme SSD/largest_plots/raw_data/area_water/*.zip'"
   ]
  },
  {
   "cell_type": "code",
   "execution_count": 3,
   "id": "c4804c4b-24d4-49b5-842a-1d0156ea98a8",
   "metadata": {},
   "outputs": [],
   "source": [
    "Aoi = gpd.read_parquet(fn_aoi).set_geometry('aoi').set_crs(epsg=target_epsg)"
   ]
  },
  {
   "cell_type": "code",
   "execution_count": 4,
   "id": "7c29d3ae-5fa5-4031-9eec-261f902e3bfd",
   "metadata": {},
   "outputs": [],
   "source": [
    "pattern_water_area = dir_water_area + '/*.zip'\n",
    "fn_list_water_area = glob.glob(dir_water_area)"
   ]
  },
  {
   "cell_type": "markdown",
   "id": "3c71d8c1-89fb-4ea8-bb00-7e5b9f686bb1",
   "metadata": {},
   "source": [
    "\n",
    "Iterate through each AOI x each water area file.\n",
    "- Keep any rows that overlap at all with the AOI\n",
    "- Each AOI's results will be stored as a list of geopandas tables."
   ]
  },
  {
   "cell_type": "code",
   "execution_count": 5,
   "id": "4a52cb58-f833-4fa1-87ed-f45bbfcab4c4",
   "metadata": {},
   "outputs": [
    {
     "data": {
      "application/vnd.jupyter.widget-view+json": {
       "model_id": "ab4f78aba0054d31ac9230ad067408d2",
       "version_major": 2,
       "version_minor": 0
      },
      "text/plain": [
       "  0%|          | 0/3235 [00:00<?, ?it/s]"
      ]
     },
     "metadata": {},
     "output_type": "display_data"
    }
   ],
   "source": [
    "intersection_list = []\n",
    "for fn_water_area in tqdm(fn_list_water_area):\n",
    "    WaterObservation = gpd.read_file(fn_water_area)\n",
    "    WaterObservation = WaterObservation[['geometry']]\n",
    "    WaterObservation = WaterObservation.rename(columns={'geometry':'water_area_geometry'})\n",
    "    WaterObservation = WaterObservation.set_geometry('water_area_geometry').to_crs(epsg=target_epsg)\n",
    "    Intersection = gpd.sjoin(left_df=WaterObservation, right_df=Aoi, how='inner', predicate='intersects', rsuffix='aoi')\n",
    "    if len(Intersection) > 0:\n",
    "        intersection_list.append(Intersection)\n",
    "    else:\n",
    "        pass"
   ]
  },
  {
   "cell_type": "code",
   "execution_count": 6,
   "id": "32aec5d7-f25b-41ff-9d3f-b85aa31f6c08",
   "metadata": {},
   "outputs": [],
   "source": [
    "Intersection = pd.concat(intersection_list).reset_index(drop=True)"
   ]
  },
  {
   "cell_type": "code",
   "execution_count": 7,
   "id": "4054a3fc-ae9b-4cc9-a006-841627d26dc4",
   "metadata": {},
   "outputs": [],
   "source": [
    "FlatIntersection = Intersection.dissolve(by='index_aoi')"
   ]
  },
  {
   "cell_type": "code",
   "execution_count": 8,
   "id": "3b02353a-2a16-4c43-90ca-acf9574ea669",
   "metadata": {},
   "outputs": [
    {
     "data": {
      "text/html": [
       "<div>\n",
       "<style scoped>\n",
       "    .dataframe tbody tr th:only-of-type {\n",
       "        vertical-align: middle;\n",
       "    }\n",
       "\n",
       "    .dataframe tbody tr th {\n",
       "        vertical-align: top;\n",
       "    }\n",
       "\n",
       "    .dataframe thead th {\n",
       "        text-align: right;\n",
       "    }\n",
       "</style>\n",
       "<table border=\"1\" class=\"dataframe\">\n",
       "  <thead>\n",
       "    <tr style=\"text-align: right;\">\n",
       "      <th></th>\n",
       "      <th>water_area_geometry</th>\n",
       "    </tr>\n",
       "    <tr>\n",
       "      <th>index_aoi</th>\n",
       "      <th></th>\n",
       "    </tr>\n",
       "  </thead>\n",
       "  <tbody>\n",
       "    <tr>\n",
       "      <th>0</th>\n",
       "      <td>MULTIPOLYGON (((1596080.360 1831118.615, 15960...</td>\n",
       "    </tr>\n",
       "    <tr>\n",
       "      <th>1</th>\n",
       "      <td>MULTIPOLYGON (((1570150.020 1778240.391, 15701...</td>\n",
       "    </tr>\n",
       "    <tr>\n",
       "      <th>2</th>\n",
       "      <td>MULTIPOLYGON (((874146.789 1167933.509, 874148...</td>\n",
       "    </tr>\n",
       "    <tr>\n",
       "      <th>3</th>\n",
       "      <td>MULTIPOLYGON (((590994.364 915385.518, 590985....</td>\n",
       "    </tr>\n",
       "    <tr>\n",
       "      <th>4</th>\n",
       "      <td>MULTIPOLYGON (((1027773.009 1664689.101, 10277...</td>\n",
       "    </tr>\n",
       "  </tbody>\n",
       "</table>\n",
       "</div>"
      ],
      "text/plain": [
       "                                         water_area_geometry\n",
       "index_aoi                                                   \n",
       "0          MULTIPOLYGON (((1596080.360 1831118.615, 15960...\n",
       "1          MULTIPOLYGON (((1570150.020 1778240.391, 15701...\n",
       "2          MULTIPOLYGON (((874146.789 1167933.509, 874148...\n",
       "3          MULTIPOLYGON (((590994.364 915385.518, 590985....\n",
       "4          MULTIPOLYGON (((1027773.009 1664689.101, 10277..."
      ]
     },
     "execution_count": 8,
     "metadata": {},
     "output_type": "execute_result"
    }
   ],
   "source": [
    "FlatIntersection.head()"
   ]
  },
  {
   "cell_type": "code",
   "execution_count": 9,
   "id": "c2751f6d-2df1-46ef-8b90-6e56440679f2",
   "metadata": {},
   "outputs": [
    {
     "data": {
      "text/html": [
       "<div>\n",
       "<style scoped>\n",
       "    .dataframe tbody tr th:only-of-type {\n",
       "        vertical-align: middle;\n",
       "    }\n",
       "\n",
       "    .dataframe tbody tr th {\n",
       "        vertical-align: top;\n",
       "    }\n",
       "\n",
       "    .dataframe thead th {\n",
       "        text-align: right;\n",
       "    }\n",
       "</style>\n",
       "<table border=\"1\" class=\"dataframe\">\n",
       "  <thead>\n",
       "    <tr style=\"text-align: right;\">\n",
       "      <th></th>\n",
       "      <th>water_area_geometry</th>\n",
       "    </tr>\n",
       "    <tr>\n",
       "      <th>index</th>\n",
       "      <th></th>\n",
       "    </tr>\n",
       "  </thead>\n",
       "  <tbody>\n",
       "    <tr>\n",
       "      <th>0</th>\n",
       "      <td>MULTIPOLYGON (((1596084.416 1831116.901, 15960...</td>\n",
       "    </tr>\n",
       "    <tr>\n",
       "      <th>1</th>\n",
       "      <td>MULTIPOLYGON (((1570154.497 1778239.313, 15701...</td>\n",
       "    </tr>\n",
       "    <tr>\n",
       "      <th>2</th>\n",
       "      <td>MULTIPOLYGON (((874148.571 1167932.453, 874155...</td>\n",
       "    </tr>\n",
       "    <tr>\n",
       "      <th>3</th>\n",
       "      <td>MULTIPOLYGON (((590948.857 915499.921, 591098....</td>\n",
       "    </tr>\n",
       "    <tr>\n",
       "      <th>4</th>\n",
       "      <td>MULTIPOLYGON (((1027771.879 1664683.992, 10277...</td>\n",
       "    </tr>\n",
       "  </tbody>\n",
       "</table>\n",
       "</div>"
      ],
      "text/plain": [
       "                                     water_area_geometry\n",
       "index                                                   \n",
       "0      MULTIPOLYGON (((1596084.416 1831116.901, 15960...\n",
       "1      MULTIPOLYGON (((1570154.497 1778239.313, 15701...\n",
       "2      MULTIPOLYGON (((874148.571 1167932.453, 874155...\n",
       "3      MULTIPOLYGON (((590948.857 915499.921, 591098....\n",
       "4      MULTIPOLYGON (((1027771.879 1664683.992, 10277..."
      ]
     },
     "execution_count": 9,
     "metadata": {},
     "output_type": "execute_result"
    }
   ],
   "source": [
    "WaterAreaOverlay = FlatIntersection['water_area_geometry'].intersection(Aoi['aoi'], align=True)\n",
    "WaterAreaOverlay = WaterAreaOverlay.to_frame().rename(columns={0:'water_area_geometry'})\n",
    "WaterAreaOverlay = WaterAreaOverlay.set_geometry('water_area_geometry').set_crs(epsg=target_epsg)\n",
    "WaterAreaOverlay.index.names = ['index']\n",
    "WaterAreaOverlay.head()"
   ]
  },
  {
   "cell_type": "code",
   "execution_count": 10,
   "id": "545518dd-2c17-4eab-98b2-8268c0289122",
   "metadata": {},
   "outputs": [],
   "source": [
    "WaterAreaOverlay.to_parquet(fn_water_area_overlay)"
   ]
  },
  {
   "cell_type": "code",
   "execution_count": 11,
   "id": "ee916666-444c-4bbd-a087-2c9659a143cd",
   "metadata": {},
   "outputs": [
    {
     "data": {
      "text/plain": [
       "True"
      ]
     },
     "execution_count": 11,
     "metadata": {},
     "output_type": "execute_result"
    }
   ],
   "source": [
    "set(WaterAreaOverlay.index.values) == set(Aoi.index.values)"
   ]
  },
  {
   "cell_type": "markdown",
   "id": "d70ac7d9-4a50-4e4c-a1ab-64695d1cc098",
   "metadata": {},
   "source": [
    "Iterate through the above dictionary, actually calculating the intersection between each AOI and the relevant water area polygons"
   ]
  },
  {
   "cell_type": "markdown",
   "id": "5bee786c-a3ff-4567-8c05-f2cc5c996ceb",
   "metadata": {},
   "source": [
    "# Manual QC fun:"
   ]
  },
  {
   "cell_type": "code",
   "execution_count": 19,
   "id": "559b7695-1078-4332-917c-998627b5234f",
   "metadata": {},
   "outputs": [
    {
     "data": {
      "image/png": "[encoded data removed]",
      "text/plain": [
       "<Figure size 500x500 with 1 Axes>"
      ]
     },
     "metadata": {},
     "output_type": "display_data"
    }
   ],
   "source": [
    "i = 210\n",
    "fig, ax = plt.subplots(figsize=(5, 5))\n",
    "# Aoi.loc[[i]].buffer(distance = 1e3*100).plot(ax=ax, alpha=0)\n",
    "Aoi.loc[[i]].plot(ax=ax, color='black')\n",
    "Intersection.loc[[i]].buffer(distance=1000).plot(ax=ax, color = 'green')\n",
    "WaterAreaOverlay.loc[[i]].plot(ax=ax, color='blue')\n",
    "plt.show()"
   ]
  },
  {
   "cell_type": "markdown",
   "id": "c6f06db3-a30c-41c1-93d9-f740b2cb39e9",
   "metadata": {},
   "source": [
    "# Save to disk"
   ]
  },
  {
   "cell_type": "code",
   "execution_count": 20,
   "id": "0206aa9e-a2e6-4d4a-8a41-3eaa2fa43ca8",
   "metadata": {},
   "outputs": [],
   "source": [
    "WaterAreaOverlay.to_parquet(fn_water_area_overlay)"
   ]
  }
 ],
 "metadata": {
  "kernelspec": {
   "display_name": "Python 3 (ipykernel)",
   "language": "python",
   "name": "python3"
  },
  "language_info": {
   "codemirror_mode": {
    "name": "ipython",
    "version": 3
   },
   "file_extension": ".py",
   "mimetype": "text/x-python",
   "name": "python",
   "nbconvert_exporter": "python",
   "pygments_lexer": "ipython3",
   "version": "3.12.2"
  }
 },
 "nbformat": 4,
 "nbformat_minor": 5
}
