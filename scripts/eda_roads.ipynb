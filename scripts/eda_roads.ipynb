{
 "cells": [
  {
   "cell_type": "code",
   "execution_count": 45,
   "id": "226c0ed8-66cf-42f9-bbbc-40871b5a4bdf",
   "metadata": {},
   "outputs": [],
   "source": [
    "import pandas as pd\n",
    "import geopandas as gpd\n",
    "import numpy as np\n",
    "import matplotlib.pyplot as plt\n",
    "# from shapely.geometry import Point, box, LineString\n",
    "from shapely import intersection\n",
    "from tqdm.notebook import tqdm\n",
    "import glob\n",
    "from functools import reduce\n",
    "\n",
    "target_epsg = 6350  # https://epsg.org/crs_6350/NAD83-2011-Conus-Albers.html?sessionkey=nb47agmo4r"
   ]
  },
  {
   "cell_type": "code",
   "execution_count": 2,
   "id": "07c98238-710e-4a93-9073-11e26cd49fe3",
   "metadata": {},
   "outputs": [],
   "source": [
    "fn_aoi = '/Volumes/Extreme SSD/largest_plots/clean_data/aoi.parquet'\n",
    "fn_roads = '/Volumes/Extreme SSD/largest_plots/clean_data/roads.parquet'\n",
    "dir_roads = '/Volumes/Extreme SSD/largest_plots/raw_data/roads'"
   ]
  },
  {
   "cell_type": "code",
   "execution_count": 5,
   "id": "83922d54-a4c5-45ef-ad77-6025fd596004",
   "metadata": {},
   "outputs": [],
   "source": [
    "Aoi = gpd.read_parquet(fn_aoi).set_geometry('aoi').set_crs(epsg=target_epsg)"
   ]
  },
  {
   "cell_type": "code",
   "execution_count": 8,
   "id": "37e58b6a-f6b2-4913-98ba-6c8bc6f78020",
   "metadata": {},
   "outputs": [],
   "source": [
    "pattern_roads = dir_roads + '/*.zip'\n",
    "fn_list_roads = glob.glob(pattern_roads)"
   ]
  },
  {
   "cell_type": "code",
   "execution_count": 14,
   "id": "4a5239d0-93a8-44c8-85af-cd423679cb37",
   "metadata": {},
   "outputs": [],
   "source": [
    "Roads = gpd.read_file(fn_list_roads[0]).to_crs(epsg=target_epsg)"
   ]
  },
  {
   "cell_type": "code",
   "execution_count": 32,
   "id": "ca0d7283-4ae8-422c-b351-7d8ee51d719e",
   "metadata": {},
   "outputs": [
    {
     "data": {
      "application/vnd.jupyter.widget-view+json": {
       "model_id": "c9de0ce49d5a40aaa9e26c758258f689",
       "version_major": 2,
       "version_minor": 0
      },
      "text/plain": [
       "  0%|          | 0/3233 [00:00<?, ?it/s]"
      ]
     },
     "metadata": {},
     "output_type": "display_data"
    }
   ],
   "source": [
    "Roads.columns\n",
    "rttyp_list = []\n",
    "mtfcc_list = []\n",
    "\n",
    "for fn_roads in tqdm(fn_list_roads):\n",
    "    Roads = gpd.read_file(fn_roads)#.to_crs(epsg=target_epsg)\n",
    "    rttyp_list.append(Roads.RTTYP.value_counts())\n",
    "    mtfcc_list.append(Roads.MTFCC.value_counts())"
   ]
  },
  {
   "cell_type": "code",
   "execution_count": 52,
   "id": "2db0b694-4b6d-430a-9887-d0b00ee67932",
   "metadata": {},
   "outputs": [
    {
     "data": {
      "text/html": [
       "<div>\n",
       "<style scoped>\n",
       "    .dataframe tbody tr th:only-of-type {\n",
       "        vertical-align: middle;\n",
       "    }\n",
       "\n",
       "    .dataframe tbody tr th {\n",
       "        vertical-align: top;\n",
       "    }\n",
       "\n",
       "    .dataframe thead th {\n",
       "        text-align: right;\n",
       "    }\n",
       "</style>\n",
       "<table border=\"1\" class=\"dataframe\">\n",
       "  <thead>\n",
       "    <tr style=\"text-align: right;\">\n",
       "      <th></th>\n",
       "      <th>count</th>\n",
       "    </tr>\n",
       "    <tr>\n",
       "      <th>RTTYP</th>\n",
       "      <th></th>\n",
       "    </tr>\n",
       "  </thead>\n",
       "  <tbody>\n",
       "    <tr>\n",
       "      <th>M</th>\n",
       "      <td>8902710</td>\n",
       "    </tr>\n",
       "    <tr>\n",
       "      <th>C</th>\n",
       "      <td>367785</td>\n",
       "    </tr>\n",
       "    <tr>\n",
       "      <th>S</th>\n",
       "      <td>179042</td>\n",
       "    </tr>\n",
       "    <tr>\n",
       "      <th>O</th>\n",
       "      <td>102449</td>\n",
       "    </tr>\n",
       "    <tr>\n",
       "      <th>U</th>\n",
       "      <td>36314</td>\n",
       "    </tr>\n",
       "    <tr>\n",
       "      <th>I</th>\n",
       "      <td>6462</td>\n",
       "    </tr>\n",
       "  </tbody>\n",
       "</table>\n",
       "</div>"
      ],
      "text/plain": [
       "         count\n",
       "RTTYP         \n",
       "M      8902710\n",
       "C       367785\n",
       "S       179042\n",
       "O       102449\n",
       "U        36314\n",
       "I         6462"
      ]
     },
     "execution_count": 52,
     "metadata": {},
     "output_type": "execute_result"
    }
   ],
   "source": [
    "reduce(lambda x,y: x.add(y, fill_value=0), rttyp_list).astype(int).to_frame().sort_values('count', ascending = False)"
   ]
  },
  {
   "cell_type": "code",
   "execution_count": 53,
   "id": "5658f46c-68e7-4fc8-bd43-b8d7e4629755",
   "metadata": {},
   "outputs": [
    {
     "data": {
      "text/html": [
       "<div>\n",
       "<style scoped>\n",
       "    .dataframe tbody tr th:only-of-type {\n",
       "        vertical-align: middle;\n",
       "    }\n",
       "\n",
       "    .dataframe tbody tr th {\n",
       "        vertical-align: top;\n",
       "    }\n",
       "\n",
       "    .dataframe thead th {\n",
       "        text-align: right;\n",
       "    }\n",
       "</style>\n",
       "<table border=\"1\" class=\"dataframe\">\n",
       "  <thead>\n",
       "    <tr style=\"text-align: right;\">\n",
       "      <th></th>\n",
       "      <th>count</th>\n",
       "    </tr>\n",
       "    <tr>\n",
       "      <th>MTFCC</th>\n",
       "      <th></th>\n",
       "    </tr>\n",
       "  </thead>\n",
       "  <tbody>\n",
       "    <tr>\n",
       "      <th>S1400</th>\n",
       "      <td>14706508</td>\n",
       "    </tr>\n",
       "    <tr>\n",
       "      <th>S1740</th>\n",
       "      <td>1759568</td>\n",
       "    </tr>\n",
       "    <tr>\n",
       "      <th>S1750</th>\n",
       "      <td>403654</td>\n",
       "    </tr>\n",
       "    <tr>\n",
       "      <th>S1500</th>\n",
       "      <td>331352</td>\n",
       "    </tr>\n",
       "    <tr>\n",
       "      <th>S1200</th>\n",
       "      <td>253295</td>\n",
       "    </tr>\n",
       "    <tr>\n",
       "      <th>S1630</th>\n",
       "      <td>199170</td>\n",
       "    </tr>\n",
       "    <tr>\n",
       "      <th>S1640</th>\n",
       "      <td>146155</td>\n",
       "    </tr>\n",
       "    <tr>\n",
       "      <th>S1730</th>\n",
       "      <td>73712</td>\n",
       "    </tr>\n",
       "    <tr>\n",
       "      <th>S1780</th>\n",
       "      <td>39531</td>\n",
       "    </tr>\n",
       "    <tr>\n",
       "      <th>S1100</th>\n",
       "      <td>17576</td>\n",
       "    </tr>\n",
       "    <tr>\n",
       "      <th>S1710</th>\n",
       "      <td>17273</td>\n",
       "    </tr>\n",
       "    <tr>\n",
       "      <th>S1820</th>\n",
       "      <td>4368</td>\n",
       "    </tr>\n",
       "    <tr>\n",
       "      <th>S1810</th>\n",
       "      <td>508</td>\n",
       "    </tr>\n",
       "    <tr>\n",
       "      <th>S1720</th>\n",
       "      <td>240</td>\n",
       "    </tr>\n",
       "    <tr>\n",
       "      <th>S1830</th>\n",
       "      <td>26</td>\n",
       "    </tr>\n",
       "  </tbody>\n",
       "</table>\n",
       "</div>"
      ],
      "text/plain": [
       "          count\n",
       "MTFCC          \n",
       "S1400  14706508\n",
       "S1740   1759568\n",
       "S1750    403654\n",
       "S1500    331352\n",
       "S1200    253295\n",
       "S1630    199170\n",
       "S1640    146155\n",
       "S1730     73712\n",
       "S1780     39531\n",
       "S1100     17576\n",
       "S1710     17273\n",
       "S1820      4368\n",
       "S1810       508\n",
       "S1720       240\n",
       "S1830        26"
      ]
     },
     "execution_count": 53,
     "metadata": {},
     "output_type": "execute_result"
    }
   ],
   "source": [
    "reduce(lambda x,y: x.add(y, fill_value=0), mtfcc_list).astype(int).to_frame().sort_values('count', ascending = False)"
   ]
  }
 ],
 "metadata": {
  "kernelspec": {
   "display_name": "Python 3 (ipykernel)",
   "language": "python",
   "name": "python3"
  },
  "language_info": {
   "codemirror_mode": {
    "name": "ipython",
    "version": 3
   },
   "file_extension": ".py",
   "mimetype": "text/x-python",
   "name": "python",
   "nbconvert_exporter": "python",
   "pygments_lexer": "ipython3",
   "version": "3.12.2"
  }
 },
 "nbformat": 4,
 "nbformat_minor": 5
}
