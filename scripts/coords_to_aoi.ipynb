{
 "cells": [
  {
   "cell_type": "markdown",
   "id": "5bdf97d4-2be1-4d5e-a805-be06afb292e0",
   "metadata": {},
   "source": [
    "# Set up areas of interest\n",
    "\n",
    "Notes on the chosen map projection, __EPSG:6350__ (https://epsg.io/6350 and https://en.wikipedia.org/wiki/Albers_projection):\n",
    "- A conic, equal area map projection\n",
    "- Scope: Data analysis and small scale data presentation for contiguous lower 48 states\n",
    "- Coordinate system: Cartesian 2D CS. Axes: easting, northing (X,Y). Orientations: east, north. UoM: m\n",
    "\n",
    "Creates square areas of interest, 100km x 100km"
   ]
  },
  {
   "cell_type": "code",
   "execution_count": 1,
   "id": "b0968999-ccf4-49c2-a6a6-17ce7e63aec9",
   "metadata": {},
   "outputs": [],
   "source": [
    "import pandas as pd\n",
    "import geopandas as gpd\n",
    "import numpy as np\n",
    "import matplotlib.pyplot as plt\n",
    "from shapely.geometry import Point #, box, LineString"
   ]
  },
  {
   "cell_type": "code",
   "execution_count": 4,
   "id": "17eeb0d3-5254-4d47-93fc-69e251696c23",
   "metadata": {},
   "outputs": [
    {
     "data": {
      "text/html": [
       "<div>\n",
       "<style scoped>\n",
       "    .dataframe tbody tr th:only-of-type {\n",
       "        vertical-align: middle;\n",
       "    }\n",
       "\n",
       "    .dataframe tbody tr th {\n",
       "        vertical-align: top;\n",
       "    }\n",
       "\n",
       "    .dataframe thead th {\n",
       "        text-align: right;\n",
       "    }\n",
       "</style>\n",
       "<table border=\"1\" class=\"dataframe\">\n",
       "  <thead>\n",
       "    <tr style=\"text-align: right;\">\n",
       "      <th></th>\n",
       "      <th>Unnamed: 0</th>\n",
       "      <th>ba_code</th>\n",
       "      <th>fos_id</th>\n",
       "      <th>latitude</th>\n",
       "      <th>longitude</th>\n",
       "      <th>plant_name_eia</th>\n",
       "      <th>street_address</th>\n",
       "      <th>state</th>\n",
       "      <th>zip_code</th>\n",
       "    </tr>\n",
       "  </thead>\n",
       "  <tbody>\n",
       "    <tr>\n",
       "      <th>0</th>\n",
       "      <td>16</td>\n",
       "      <td>57</td>\n",
       "      <td>55061</td>\n",
       "      <td>33.35160</td>\n",
       "      <td>-84.99960</td>\n",
       "      <td>Tenaska Georgia</td>\n",
       "      <td>2100 George Brown Road</td>\n",
       "      <td>GA</td>\n",
       "      <td>30217.0</td>\n",
       "    </tr>\n",
       "    <tr>\n",
       "      <th>1</th>\n",
       "      <td>24</td>\n",
       "      <td>57</td>\n",
       "      <td>55332</td>\n",
       "      <td>33.09224</td>\n",
       "      <td>-82.97999</td>\n",
       "      <td>Tiger Creek Power Facility</td>\n",
       "      <td>1177 County Line Road</td>\n",
       "      <td>GA</td>\n",
       "      <td>31082.0</td>\n",
       "    </tr>\n",
       "    <tr>\n",
       "      <th>2</th>\n",
       "      <td>40</td>\n",
       "      <td>DUKE</td>\n",
       "      <td>3264</td>\n",
       "      <td>34.60220</td>\n",
       "      <td>-82.43500</td>\n",
       "      <td>W S Lee</td>\n",
       "      <td>Lee Steam Plant Rd</td>\n",
       "      <td>SC</td>\n",
       "      <td>29697.0</td>\n",
       "    </tr>\n",
       "    <tr>\n",
       "      <th>3</th>\n",
       "      <td>48</td>\n",
       "      <td>DUKE</td>\n",
       "      <td>7538</td>\n",
       "      <td>35.37579</td>\n",
       "      <td>-78.09805</td>\n",
       "      <td>Wayne County</td>\n",
       "      <td>1199 Black Church Road</td>\n",
       "      <td>NC</td>\n",
       "      <td>27530.0</td>\n",
       "    </tr>\n",
       "    <tr>\n",
       "      <th>4</th>\n",
       "      <td>56</td>\n",
       "      <td>DUKE</td>\n",
       "      <td>7805</td>\n",
       "      <td>34.83920</td>\n",
       "      <td>-79.74060</td>\n",
       "      <td>Richmond</td>\n",
       "      <td>198 Energy Way</td>\n",
       "      <td>NC</td>\n",
       "      <td>28345.0</td>\n",
       "    </tr>\n",
       "  </tbody>\n",
       "</table>\n",
       "</div>"
      ],
      "text/plain": [
       "   Unnamed: 0 ba_code  fos_id  latitude  longitude  \\\n",
       "0          16      57   55061  33.35160  -84.99960   \n",
       "1          24      57   55332  33.09224  -82.97999   \n",
       "2          40    DUKE    3264  34.60220  -82.43500   \n",
       "3          48    DUKE    7538  35.37579  -78.09805   \n",
       "4          56    DUKE    7805  34.83920  -79.74060   \n",
       "\n",
       "               plant_name_eia          street_address state  zip_code  \n",
       "0             Tenaska Georgia  2100 George Brown Road    GA   30217.0  \n",
       "1  Tiger Creek Power Facility   1177 County Line Road    GA   31082.0  \n",
       "2                     W S Lee      Lee Steam Plant Rd    SC   29697.0  \n",
       "3                Wayne County  1199 Black Church Road    NC   27530.0  \n",
       "4                    Richmond          198 Energy Way    NC   28345.0  "
      ]
     },
     "execution_count": 4,
     "metadata": {},
     "output_type": "execute_result"
    }
   ],
   "source": [
    "# Conic, equal-area map projection; meters in lieu of geodetic coords\n",
    "target_epsg = 6350  # https://epsg.org/crs_6350/NAD83-2011-Conus-Albers.html?sessionkey=nb47agmo4r\n",
    "\n",
    "fn_coords_in = '/Volumes/Extreme SSD/largest_plots/raw_data/colo_sites(202409301939).csv'\n",
    "fn_coords_out = '/Volumes/Extreme SSD/largest_plots/clean_data/coords.parquet'\n",
    "fn_aoi_out = '/Volumes/Extreme SSD/largest_plots/clean_data/aoi.parquet'\n",
    "\n",
    "CoordsRaw = pd.read_csv(fn_coords_in)\n",
    "CoordsRaw.head()"
   ]
  },
  {
   "cell_type": "markdown",
   "id": "9bd70308-7d98-4191-9841-3338c42c1260",
   "metadata": {},
   "source": [
    "Create column of geodetic coordinates, then translate to the preferred coordinate system"
   ]
  },
  {
   "cell_type": "code",
   "execution_count": 5,
   "id": "852ff3c0-8bc0-411b-9d5b-613d1058377a",
   "metadata": {},
   "outputs": [
    {
     "data": {
      "text/html": [
       "<div>\n",
       "<style scoped>\n",
       "    .dataframe tbody tr th:only-of-type {\n",
       "        vertical-align: middle;\n",
       "    }\n",
       "\n",
       "    .dataframe tbody tr th {\n",
       "        vertical-align: top;\n",
       "    }\n",
       "\n",
       "    .dataframe thead th {\n",
       "        text-align: right;\n",
       "    }\n",
       "</style>\n",
       "<table border=\"1\" class=\"dataframe\">\n",
       "  <thead>\n",
       "    <tr style=\"text-align: right;\">\n",
       "      <th></th>\n",
       "      <th>Unnamed: 0</th>\n",
       "      <th>ba_code</th>\n",
       "      <th>fos_id</th>\n",
       "      <th>latitude</th>\n",
       "      <th>longitude</th>\n",
       "      <th>plant_name_eia</th>\n",
       "      <th>street_address</th>\n",
       "      <th>state</th>\n",
       "      <th>zip_code</th>\n",
       "      <th>geometry</th>\n",
       "    </tr>\n",
       "  </thead>\n",
       "  <tbody>\n",
       "    <tr>\n",
       "      <th>0</th>\n",
       "      <td>16</td>\n",
       "      <td>57</td>\n",
       "      <td>55061</td>\n",
       "      <td>33.35160</td>\n",
       "      <td>-84.99960</td>\n",
       "      <td>Tenaska Georgia</td>\n",
       "      <td>2100 George Brown Road</td>\n",
       "      <td>GA</td>\n",
       "      <td>30217.0</td>\n",
       "      <td>POINT (1014783.733 1201341.503)</td>\n",
       "    </tr>\n",
       "    <tr>\n",
       "      <th>1</th>\n",
       "      <td>24</td>\n",
       "      <td>57</td>\n",
       "      <td>55332</td>\n",
       "      <td>33.09224</td>\n",
       "      <td>-82.97999</td>\n",
       "      <td>Tiger Creek Power Facility</td>\n",
       "      <td>1177 County Line Road</td>\n",
       "      <td>GA</td>\n",
       "      <td>31082.0</td>\n",
       "      <td>POINT (1203970.757 1196193.050)</td>\n",
       "    </tr>\n",
       "    <tr>\n",
       "      <th>2</th>\n",
       "      <td>40</td>\n",
       "      <td>DUKE</td>\n",
       "      <td>3264</td>\n",
       "      <td>34.60220</td>\n",
       "      <td>-82.43500</td>\n",
       "      <td>W S Lee</td>\n",
       "      <td>Lee Steam Plant Rd</td>\n",
       "      <td>SC</td>\n",
       "      <td>29697.0</td>\n",
       "      <td>POINT (1230030.297 1370238.314)</td>\n",
       "    </tr>\n",
       "    <tr>\n",
       "      <th>3</th>\n",
       "      <td>48</td>\n",
       "      <td>DUKE</td>\n",
       "      <td>7538</td>\n",
       "      <td>35.37579</td>\n",
       "      <td>-78.09805</td>\n",
       "      <td>Wayne County</td>\n",
       "      <td>1199 Black Church Road</td>\n",
       "      <td>NC</td>\n",
       "      <td>27530.0</td>\n",
       "      <td>POINT (1602992.164 1520284.428)</td>\n",
       "    </tr>\n",
       "    <tr>\n",
       "      <th>4</th>\n",
       "      <td>56</td>\n",
       "      <td>DUKE</td>\n",
       "      <td>7805</td>\n",
       "      <td>34.83920</td>\n",
       "      <td>-79.74060</td>\n",
       "      <td>Richmond</td>\n",
       "      <td>198 Energy Way</td>\n",
       "      <td>NC</td>\n",
       "      <td>28345.0</td>\n",
       "      <td>POINT (1467647.954 1434669.498)</td>\n",
       "    </tr>\n",
       "  </tbody>\n",
       "</table>\n",
       "</div>"
      ],
      "text/plain": [
       "   Unnamed: 0 ba_code  fos_id  latitude  longitude  \\\n",
       "0          16      57   55061  33.35160  -84.99960   \n",
       "1          24      57   55332  33.09224  -82.97999   \n",
       "2          40    DUKE    3264  34.60220  -82.43500   \n",
       "3          48    DUKE    7538  35.37579  -78.09805   \n",
       "4          56    DUKE    7805  34.83920  -79.74060   \n",
       "\n",
       "               plant_name_eia          street_address state  zip_code  \\\n",
       "0             Tenaska Georgia  2100 George Brown Road    GA   30217.0   \n",
       "1  Tiger Creek Power Facility   1177 County Line Road    GA   31082.0   \n",
       "2                     W S Lee      Lee Steam Plant Rd    SC   29697.0   \n",
       "3                Wayne County  1199 Black Church Road    NC   27530.0   \n",
       "4                    Richmond          198 Energy Way    NC   28345.0   \n",
       "\n",
       "                          geometry  \n",
       "0  POINT (1014783.733 1201341.503)  \n",
       "1  POINT (1203970.757 1196193.050)  \n",
       "2  POINT (1230030.297 1370238.314)  \n",
       "3  POINT (1602992.164 1520284.428)  \n",
       "4  POINT (1467647.954 1434669.498)  "
      ]
     },
     "execution_count": 5,
     "metadata": {},
     "output_type": "execute_result"
    }
   ],
   "source": [
    "geometry = [Point(xy) for xy in zip(CoordsRaw.longitude, CoordsRaw.latitude)]\n",
    "\n",
    "Coords = gpd.GeoDataFrame(CoordsRaw, geometry=geometry)\n",
    "Coords.set_crs(epsg=4326, inplace=True)  # Default used in GPS https://epsg.io/4326#google_vignette\n",
    "Coords.to_crs(epsg=target_epsg, inplace=True)\n",
    "Coords.head()"
   ]
  },
  {
   "cell_type": "markdown",
   "id": "99871c81-e4e1-4444-9752-dd0a52451c15",
   "metadata": {},
   "source": [
    "Create 'buffers', aka, areas of interest: 100km square"
   ]
  },
  {
   "cell_type": "code",
   "execution_count": 51,
   "id": "c47db9a3-52de-4c1e-a25d-5a0d2b99c702",
   "metadata": {},
   "outputs": [
    {
     "data": {
      "text/html": [
       "<div>\n",
       "<style scoped>\n",
       "    .dataframe tbody tr th:only-of-type {\n",
       "        vertical-align: middle;\n",
       "    }\n",
       "\n",
       "    .dataframe tbody tr th {\n",
       "        vertical-align: top;\n",
       "    }\n",
       "\n",
       "    .dataframe thead th {\n",
       "        text-align: right;\n",
       "    }\n",
       "</style>\n",
       "<table border=\"1\" class=\"dataframe\">\n",
       "  <thead>\n",
       "    <tr style=\"text-align: right;\">\n",
       "      <th></th>\n",
       "      <th>aoi</th>\n",
       "    </tr>\n",
       "  </thead>\n",
       "  <tbody>\n",
       "    <tr>\n",
       "      <th>0</th>\n",
       "      <td>POLYGON ((1064783.733 1251341.503, 1064783.733...</td>\n",
       "    </tr>\n",
       "    <tr>\n",
       "      <th>1</th>\n",
       "      <td>POLYGON ((1253970.757 1246193.050, 1253970.757...</td>\n",
       "    </tr>\n",
       "    <tr>\n",
       "      <th>2</th>\n",
       "      <td>POLYGON ((1280030.297 1420238.314, 1280030.297...</td>\n",
       "    </tr>\n",
       "    <tr>\n",
       "      <th>3</th>\n",
       "      <td>POLYGON ((1652992.164 1570284.428, 1652992.164...</td>\n",
       "    </tr>\n",
       "    <tr>\n",
       "      <th>4</th>\n",
       "      <td>POLYGON ((1517647.954 1484669.498, 1517647.954...</td>\n",
       "    </tr>\n",
       "  </tbody>\n",
       "</table>\n",
       "</div>"
      ],
      "text/plain": [
       "                                                 aoi\n",
       "0  POLYGON ((1064783.733 1251341.503, 1064783.733...\n",
       "1  POLYGON ((1253970.757 1246193.050, 1253970.757...\n",
       "2  POLYGON ((1280030.297 1420238.314, 1280030.297...\n",
       "3  POLYGON ((1652992.164 1570284.428, 1652992.164...\n",
       "4  POLYGON ((1517647.954 1484669.498, 1517647.954..."
      ]
     },
     "execution_count": 51,
     "metadata": {},
     "output_type": "execute_result"
    }
   ],
   "source": [
    "aoi_list = Coords.buffer(1e3*50, cap_style='square')  # 1e3 * 50m is the 'radius' (half width, because we're using a square buffer.) this means we'll have 100km**2\n",
    "Aoi = gpd.GeoDataFrame({'aoi':aoi_list})\n",
    "Aoi.set_geometry('aoi', inplace=True)\n",
    "Aoi.set_crs(epsg=target_epsg, inplace=True)\n",
    "Aoi.head()"
   ]
  },
  {
   "cell_type": "code",
   "execution_count": null,
   "id": "2f0610a4-16ff-4d03-ac3b-db25416d1ba3",
   "metadata": {},
   "outputs": [],
   "source": [
    "Optional QC"
   ]
  },
  {
   "cell_type": "code",
   "execution_count": 54,
   "id": "61f81651-9c6e-4344-b578-c853a148e90c",
   "metadata": {},
   "outputs": [
    {
     "data": {
      "image/png": "[encoded data removed]",
      "text/plain": [
       "<Figure size 800x800 with 1 Axes>"
      ]
     },
     "metadata": {},
     "output_type": "display_data"
    }
   ],
   "source": [
    "fig, ax = plt.subplots(figsize=(8, 8))\n",
    "Aoi.plot(ax=ax, color = 'steelblue')\n",
    "Coords.plot(ax=ax, color = 'red')\n",
    "plt.show()"
   ]
  },
  {
   "cell_type": "code",
   "execution_count": 59,
   "id": "7f00ed26-3713-4535-b25d-e14179032fdb",
   "metadata": {},
   "outputs": [
    {
     "data": {
      "text/plain": [
       "{1.0}"
      ]
     },
     "execution_count": 59,
     "metadata": {},
     "output_type": "execute_result"
    }
   ],
   "source": [
    "# Make sure each area is 100km * 100km\n",
    "set(np.round( \n",
    "    Aoi.area / ((100.0*1e3) * (100.0*1e3)) \n",
    "))"
   ]
  },
  {
   "cell_type": "markdown",
   "id": "bf332a24-030d-425b-a429-af5c0ab45bfa",
   "metadata": {},
   "source": [
    "Make sure every observation is accounted for."
   ]
  },
  {
   "cell_type": "code",
   "execution_count": 60,
   "id": "e06443df-63d0-4e21-b22a-a543010bc309",
   "metadata": {},
   "outputs": [
    {
     "data": {
      "text/plain": [
       "True"
      ]
     },
     "execution_count": 60,
     "metadata": {},
     "output_type": "execute_result"
    }
   ],
   "source": [
    "CoordsRaw.shape[0] == Coords.shape[0]"
   ]
  },
  {
   "cell_type": "code",
   "execution_count": 61,
   "id": "010d9c7d-58eb-4a69-98eb-9457224e0027",
   "metadata": {},
   "outputs": [
    {
     "data": {
      "text/plain": [
       "True"
      ]
     },
     "execution_count": 61,
     "metadata": {},
     "output_type": "execute_result"
    }
   ],
   "source": [
    "CoordsRaw.shape[0] == Aoi.shape[0]"
   ]
  },
  {
   "cell_type": "markdown",
   "id": "c313d43e-4322-40dc-b313-bdf5b8a540e5",
   "metadata": {},
   "source": [
    "Write to disk"
   ]
  },
  {
   "cell_type": "code",
   "execution_count": 63,
   "id": "50bfe608-a1fd-41d5-ae36-1f19957e97f7",
   "metadata": {},
   "outputs": [],
   "source": [
    "Coords.to_parquet(fn_coords_out)\n",
    "Aoi.to_parquet(fn_aoi_out)"
   ]
  }
 ],
 "metadata": {
  "kernelspec": {
   "display_name": "Python 3 (ipykernel)",
   "language": "python",
   "name": "python3"
  },
  "language_info": {
   "codemirror_mode": {
    "name": "ipython",
    "version": 3
   },
   "file_extension": ".py",
   "mimetype": "text/x-python",
   "name": "python",
   "nbconvert_exporter": "python",
   "pygments_lexer": "ipython3",
   "version": "3.12.2"
  }
 },
 "nbformat": 4,
 "nbformat_minor": 5
}
